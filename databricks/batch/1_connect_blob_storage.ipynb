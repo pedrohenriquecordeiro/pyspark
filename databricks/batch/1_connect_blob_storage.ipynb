{
 "cells": [
  {
   "cell_type": "markdown",
   "metadata": {
    "application/vnd.databricks.v1+cell": {
     "cellMetadata": {},
     "inputWidgets": {},
     "nuid": "8463c7b3-77f1-4839-a3b8-fb23e944a85f",
     "showTitle": false,
     "title": ""
    }
   },
   "source": [
    "\n",
    "# Connecting to Azure Blob Storage\n",
    "> *creating mount points using dbfs*  \n",
    "\n",
    "<br>\n",
    "\n",
    "> *https://docs.databricks.com/data/data-sources/azure/azure-storage.html* "
   ]
  },
  {
   "cell_type": "markdown",
   "metadata": {
    "application/vnd.databricks.v1+cell": {
     "cellMetadata": {},
     "inputWidgets": {},
     "nuid": "c5f3f75b-70fb-4102-904c-54ea88f0da36",
     "showTitle": false,
     "title": ""
    }
   },
   "source": [
    "\n",
    "<br>\n",
    "  \n",
    "<img width=\"700px\" src ='https://owshqblobstg.blob.core.windows.net/stgfiles/png_files/blob_storage_dbr0.png'>\n",
    "  \n",
    "<br>"
   ]
  },
  {
   "cell_type": "markdown",
   "metadata": {
    "application/vnd.databricks.v1+cell": {
     "cellMetadata": {},
     "inputWidgets": {},
     "nuid": "dd3f9e5a-acee-46d5-bf32-32ddd0cbf686",
     "showTitle": false,
     "title": ""
    }
   },
   "source": [
    "\n",
    "#### *databricks command-line interface [CLI]*\n",
    "\n",
    "> https://docs.azuredatabricks.net/user-guide/secrets/secret-scopes.html  \n",
    "> https://docs.azuredatabricks.net/user-guide/dev-tools/databricks-cli.html"
   ]
  },
  {
   "cell_type": "markdown",
   "metadata": {
    "application/vnd.databricks.v1+cell": {
     "cellMetadata": {},
     "inputWidgets": {},
     "nuid": "bcfcfd7f-4fe1-40ba-95a8-1667d6b8cd38",
     "showTitle": false,
     "title": ""
    }
   },
   "source": [
    "\n",
    "> *use the **databricks cli** to create secrets to securely store your values*  \n",
    "> *https://docs.databricks.com/dev-tools/cli/index.html* "
   ]
  },
  {
   "cell_type": "code",
   "execution_count": 0,
   "metadata": {
    "application/vnd.databricks.v1+cell": {
     "cellMetadata": {},
     "inputWidgets": {},
     "nuid": "16da6d4c-64e5-4c08-a9c9-fa67c4b05874",
     "showTitle": true,
     "title": "Landing Zone"
    }
   },
   "outputs": [
    {
     "output_type": "display_data",
     "data": {
      "text/html": [
       "<style scoped>\n",
       "  .ansiout {\n",
       "    display: block;\n",
       "    unicode-bidi: embed;\n",
       "    white-space: pre-wrap;\n",
       "    word-wrap: break-word;\n",
       "    word-break: break-all;\n",
       "    font-family: \"Menlo\", \"Monaco\", \"Consolas\", \"Ubuntu Mono\", \"Source Code Pro\", monospace;\n",
       "    font-size: 13px;\n",
       "    color: #555;\n",
       "    margin-left: 4px;\n",
       "    line-height: 19px;\n",
       "  }\n",
       "</style>\n",
       "<div class=\"ansiout\">Out[1]: True</div>"
      ]
     },
     "metadata": {
      "application/vnd.databricks.v1+output": {
       "addedWidgets": {},
       "arguments": {},
       "data": "<div class=\"ansiout\">Out[1]: True</div>",
       "datasetInfos": [],
       "metadata": {},
       "removedWidgets": [],
       "type": "html"
      }
     },
     "output_type": "display_data"
    }
   ],
   "source": [
    "dbutils.fs.mount(\n",
    "  source = \"wasbs://landing@owshqblobstg.blob.core.windows.net\",\n",
    "  mount_point = \"/mnt/landing\",\n",
    "  extra_configs = {\"fs.azure.account.key.owshqblobstg.blob.core.windows.net\":dbutils.secrets.get(scope = \"az-blob-storage-owshqblobstg\", key = \"key-owshqblobstg\")}\n",
    ")"
   ]
  },
  {
   "cell_type": "code",
   "execution_count": 0,
   "metadata": {
    "application/vnd.databricks.v1+cell": {
     "cellMetadata": {},
     "inputWidgets": {},
     "nuid": "f34a3a42-ce2a-4067-b984-0dcb5e2a6288",
     "showTitle": true,
     "title": "Processing Zone"
    }
   },
   "outputs": [
    {
     "output_type": "display_data",
     "data": {
      "text/html": [
       "<style scoped>\n",
       "  .ansiout {\n",
       "    display: block;\n",
       "    unicode-bidi: embed;\n",
       "    white-space: pre-wrap;\n",
       "    word-wrap: break-word;\n",
       "    word-break: break-all;\n",
       "    font-family: \"Menlo\", \"Monaco\", \"Consolas\", \"Ubuntu Mono\", \"Source Code Pro\", monospace;\n",
       "    font-size: 13px;\n",
       "    color: #555;\n",
       "    margin-left: 4px;\n",
       "    line-height: 19px;\n",
       "  }\n",
       "</style>\n",
       "<div class=\"ansiout\">Out[2]: True</div>"
      ]
     },
     "metadata": {
      "application/vnd.databricks.v1+output": {
       "addedWidgets": {},
       "arguments": {},
       "data": "<div class=\"ansiout\">Out[2]: True</div>",
       "datasetInfos": [],
       "metadata": {},
       "removedWidgets": [],
       "type": "html"
      }
     },
     "output_type": "display_data"
    }
   ],
   "source": [
    "dbutils.fs.mount(\n",
    "  source = \"wasbs://processing@owshqblobstg.blob.core.windows.net\",\n",
    "  mount_point = \"/mnt/processing\",\n",
    "  extra_configs = {\"fs.azure.account.key.owshqblobstg.blob.core.windows.net\":dbutils.secrets.get(scope = \"az-blob-storage-owshqblobstg\", key = \"key-owshqblobstg\")}\n",
    ")"
   ]
  },
  {
   "cell_type": "code",
   "execution_count": 0,
   "metadata": {
    "application/vnd.databricks.v1+cell": {
     "cellMetadata": {},
     "inputWidgets": {},
     "nuid": "fe2e68d6-e69c-4e77-88e6-9e4cbd1e96ca",
     "showTitle": true,
     "title": "Curated Zone"
    }
   },
   "outputs": [
    {
     "output_type": "display_data",
     "data": {
      "text/html": [
       "<style scoped>\n",
       "  .ansiout {\n",
       "    display: block;\n",
       "    unicode-bidi: embed;\n",
       "    white-space: pre-wrap;\n",
       "    word-wrap: break-word;\n",
       "    word-break: break-all;\n",
       "    font-family: \"Menlo\", \"Monaco\", \"Consolas\", \"Ubuntu Mono\", \"Source Code Pro\", monospace;\n",
       "    font-size: 13px;\n",
       "    color: #555;\n",
       "    margin-left: 4px;\n",
       "    line-height: 19px;\n",
       "  }\n",
       "</style>\n",
       "<div class=\"ansiout\">Out[3]: True</div>"
      ]
     },
     "metadata": {
      "application/vnd.databricks.v1+output": {
       "addedWidgets": {},
       "arguments": {},
       "data": "<div class=\"ansiout\">Out[3]: True</div>",
       "datasetInfos": [],
       "metadata": {},
       "removedWidgets": [],
       "type": "html"
      }
     },
     "output_type": "display_data"
    }
   ],
   "source": [
    "dbutils.fs.mount(\n",
    "  source = \"wasbs://curated@owshqblobstg.blob.core.windows.net\",\n",
    "  mount_point = \"/mnt/curated\",\n",
    "  extra_configs = {\"fs.azure.account.key.owshqblobstg.blob.core.windows.net\":dbutils.secrets.get(scope = \"az-blob-storage-owshqblobstg\", key = \"key-owshqblobstg\")}\n",
    ")"
   ]
  },
  {
   "cell_type": "code",
   "execution_count": 0,
   "metadata": {
    "application/vnd.databricks.v1+cell": {
     "cellMetadata": {},
     "inputWidgets": {},
     "nuid": "4d3b6a15-1e3f-49f9-9188-eb88aba311a4",
     "showTitle": true,
     "title": "Stage Zone"
    }
   },
   "outputs": [
    {
     "output_type": "display_data",
     "data": {
      "text/html": [
       "<style scoped>\n",
       "  .ansiout {\n",
       "    display: block;\n",
       "    unicode-bidi: embed;\n",
       "    white-space: pre-wrap;\n",
       "    word-wrap: break-word;\n",
       "    word-break: break-all;\n",
       "    font-family: \"Menlo\", \"Monaco\", \"Consolas\", \"Ubuntu Mono\", \"Source Code Pro\", monospace;\n",
       "    font-size: 13px;\n",
       "    color: #555;\n",
       "    margin-left: 4px;\n",
       "    line-height: 19px;\n",
       "  }\n",
       "</style>\n",
       "<div class=\"ansiout\">Out[4]: True</div>"
      ]
     },
     "metadata": {
      "application/vnd.databricks.v1+output": {
       "addedWidgets": {},
       "arguments": {},
       "data": "<div class=\"ansiout\">Out[4]: True</div>",
       "datasetInfos": [],
       "metadata": {},
       "removedWidgets": [],
       "type": "html"
      }
     },
     "output_type": "display_data"
    }
   ],
   "source": [
    "dbutils.fs.mount(\n",
    "  source = \"wasbs://bs-stg-files@owshqblobstg.blob.core.windows.net\",\n",
    "  mount_point = \"/mnt/bs-stg-files\",\n",
    "  extra_configs = {\"fs.azure.account.key.owshqblobstg.blob.core.windows.net\":dbutils.secrets.get(scope = \"az-blob-storage-owshqblobstg\", key = \"key-owshqblobstg\")})"
   ]
  },
  {
   "cell_type": "code",
   "execution_count": 0,
   "metadata": {
    "application/vnd.databricks.v1+cell": {
     "cellMetadata": {},
     "inputWidgets": {},
     "nuid": "d1cbef23-b328-409f-8b0d-a7184a2c80af",
     "showTitle": true,
     "title": "Production Zone"
    }
   },
   "outputs": [
    {
     "output_type": "display_data",
     "data": {
      "text/html": [
       "<style scoped>\n",
       "  .ansiout {\n",
       "    display: block;\n",
       "    unicode-bidi: embed;\n",
       "    white-space: pre-wrap;\n",
       "    word-wrap: break-word;\n",
       "    word-break: break-all;\n",
       "    font-family: \"Menlo\", \"Monaco\", \"Consolas\", \"Ubuntu Mono\", \"Source Code Pro\", monospace;\n",
       "    font-size: 13px;\n",
       "    color: #555;\n",
       "    margin-left: 4px;\n",
       "    line-height: 19px;\n",
       "  }\n",
       "</style>\n",
       "<div class=\"ansiout\">Out[5]: True</div>"
      ]
     },
     "metadata": {
      "application/vnd.databricks.v1+output": {
       "addedWidgets": {},
       "arguments": {},
       "data": "<div class=\"ansiout\">Out[5]: True</div>",
       "datasetInfos": [],
       "metadata": {},
       "removedWidgets": [],
       "type": "html"
      }
     },
     "output_type": "display_data"
    }
   ],
   "source": [
    "dbutils.fs.mount(\n",
    "  source = \"wasbs://bs-production@owshqblobstg.blob.core.windows.net\",\n",
    "  mount_point = \"/mnt/bs-production\",\n",
    "  extra_configs = {\"fs.azure.account.key.owshqblobstg.blob.core.windows.net\":dbutils.secrets.get(scope = \"az-blob-storage-owshqblobstg\", key = \"key-owshqblobstg\")})"
   ]
  },
  {
   "cell_type": "code",
   "execution_count": 0,
   "metadata": {
    "application/vnd.databricks.v1+cell": {
     "cellMetadata": {},
     "inputWidgets": {},
     "nuid": "470976c0-5f7c-4a1f-9179-79f5a4cdc469",
     "showTitle": true,
     "title": "OwsHQ ~ Delta Architecture Zone (Bronze, Silver, Gold)"
    }
   },
   "outputs": [
    {
     "output_type": "display_data",
     "data": {
      "text/html": [
       "<style scoped>\n",
       "  .ansiout {\n",
       "    display: block;\n",
       "    unicode-bidi: embed;\n",
       "    white-space: pre-wrap;\n",
       "    word-wrap: break-word;\n",
       "    word-break: break-all;\n",
       "    font-family: \"Menlo\", \"Monaco\", \"Consolas\", \"Ubuntu Mono\", \"Source Code Pro\", monospace;\n",
       "    font-size: 13px;\n",
       "    color: #555;\n",
       "    margin-left: 4px;\n",
       "    line-height: 19px;\n",
       "  }\n",
       "</style>\n",
       "<div class=\"ansiout\">Out[6]: True</div>"
      ]
     },
     "metadata": {
      "application/vnd.databricks.v1+output": {
       "addedWidgets": {},
       "arguments": {},
       "data": "<div class=\"ansiout\">Out[6]: True</div>",
       "datasetInfos": [],
       "metadata": {},
       "removedWidgets": [],
       "type": "html"
      }
     },
     "output_type": "display_data"
    }
   ],
   "source": [
    "dbutils.fs.mount(\n",
    "  source = \"wasbs://owshq@owshqblobstg.blob.core.windows.net\",\n",
    "  mount_point = \"/mnt/owshq\",\n",
    "  extra_configs = {\"fs.azure.account.key.owshqblobstg.blob.core.windows.net\":dbutils.secrets.get(scope = \"az-blob-storage-owshqblobstg\", key = \"key-owshqblobstg\")})"
   ]
  },
  {
   "cell_type": "code",
   "execution_count": 0,
   "metadata": {
    "application/vnd.databricks.v1+cell": {
     "cellMetadata": {},
     "inputWidgets": {},
     "nuid": "913df5e4-50f8-4b0c-ac3b-2adef41aed7a",
     "showTitle": true,
     "title": "List Mount Points"
    }
   },
   "outputs": [
    {
     "output_type": "display_data",
     "data": {
      "text/html": [
       "<style scoped>\n",
       "  .table-result-container {\n",
       "    max-height: 300px;\n",
       "    overflow: auto;\n",
       "  }\n",
       "  table, th, td {\n",
       "    border: 1px solid black;\n",
       "    border-collapse: collapse;\n",
       "  }\n",
       "  th, td {\n",
       "    padding: 5px;\n",
       "  }\n",
       "  th {\n",
       "    text-align: left;\n",
       "  }\n",
       "</style><div class='table-result-container'><table class='table-result'><thead style='background-color: white'><tr><th>path</th><th>name</th><th>size</th><th>modificationTime</th></tr></thead><tbody><tr><td>dbfs:/mnt/bs-production/</td><td>bs-production/</td><td>0</td><td>0</td></tr><tr><td>dbfs:/mnt/bs-stg-files/</td><td>bs-stg-files/</td><td>0</td><td>0</td></tr><tr><td>dbfs:/mnt/curated/</td><td>curated/</td><td>0</td><td>0</td></tr><tr><td>dbfs:/mnt/landing/</td><td>landing/</td><td>0</td><td>0</td></tr><tr><td>dbfs:/mnt/owshq/</td><td>owshq/</td><td>0</td><td>0</td></tr><tr><td>dbfs:/mnt/processing/</td><td>processing/</td><td>0</td><td>0</td></tr></tbody></table></div>"
      ]
     },
     "metadata": {
      "application/vnd.databricks.v1+output": {
       "addedWidgets": {},
       "aggData": [],
       "aggError": "",
       "aggOverflow": false,
       "aggSchema": [],
       "aggSeriesLimitReached": false,
       "aggType": "",
       "arguments": {},
       "columnCustomDisplayInfos": {},
       "data": [
        [
         "dbfs:/mnt/bs-production/",
         "bs-production/",
         0,
         0
        ],
        [
         "dbfs:/mnt/bs-stg-files/",
         "bs-stg-files/",
         0,
         0
        ],
        [
         "dbfs:/mnt/curated/",
         "curated/",
         0,
         0
        ],
        [
         "dbfs:/mnt/landing/",
         "landing/",
         0,
         0
        ],
        [
         "dbfs:/mnt/owshq/",
         "owshq/",
         0,
         0
        ],
        [
         "dbfs:/mnt/processing/",
         "processing/",
         0,
         0
        ]
       ],
       "datasetInfos": [],
       "dbfsResultPath": null,
       "isJsonSchema": true,
       "metadata": {},
       "overflow": false,
       "plotOptions": {
        "customPlotOptions": {},
        "displayType": "table",
        "pivotAggregation": null,
        "pivotColumns": null,
        "xColumns": null,
        "yColumns": null
       },
       "removedWidgets": [],
       "schema": [
        {
         "metadata": "{}",
         "name": "path",
         "type": "\"string\""
        },
        {
         "metadata": "{}",
         "name": "name",
         "type": "\"string\""
        },
        {
         "metadata": "{}",
         "name": "size",
         "type": "\"long\""
        },
        {
         "metadata": "{}",
         "name": "modificationTime",
         "type": "\"long\""
        }
       ],
       "type": "table"
      }
     },
     "output_type": "display_data"
    },
    {
     "output_type": "display_data",
     "data": {
      "text/html": [
       "<style scoped>\n",
       "  .table-result-container {\n",
       "    max-height: 300px;\n",
       "    overflow: auto;\n",
       "  }\n",
       "  table, th, td {\n",
       "    border: 1px solid black;\n",
       "    border-collapse: collapse;\n",
       "  }\n",
       "  th, td {\n",
       "    padding: 5px;\n",
       "  }\n",
       "  th {\n",
       "    text-align: left;\n",
       "  }\n",
       "</style><div class='table-result-container'><table class='table-result'><thead style='background-color: white'><tr><th>path</th><th>name</th><th>size</th><th>modificationTime</th></tr></thead><tbody><tr><td>dbfs:/mnt/landing/bank/</td><td>bank/</td><td>0</td><td>0</td></tr><tr><td>dbfs:/mnt/landing/beer/</td><td>beer/</td><td>0</td><td>0</td></tr><tr><td>dbfs:/mnt/landing/coffee/</td><td>coffee/</td><td>0</td><td>0</td></tr><tr><td>dbfs:/mnt/landing/commerce/</td><td>commerce/</td><td>0</td><td>0</td></tr><tr><td>dbfs:/mnt/landing/company/</td><td>company/</td><td>0</td><td>0</td></tr><tr><td>dbfs:/mnt/landing/computer/</td><td>computer/</td><td>0</td><td>0</td></tr><tr><td>dbfs:/mnt/landing/credit_card/</td><td>credit_card/</td><td>0</td><td>0</td></tr><tr><td>dbfs:/mnt/landing/dessert/</td><td>dessert/</td><td>0</td><td>0</td></tr><tr><td>dbfs:/mnt/landing/device/</td><td>device/</td><td>0</td><td>0</td></tr><tr><td>dbfs:/mnt/landing/food/</td><td>food/</td><td>0</td><td>0</td></tr><tr><td>dbfs:/mnt/landing/restaurant/</td><td>restaurant/</td><td>0</td><td>0</td></tr><tr><td>dbfs:/mnt/landing/stripe/</td><td>stripe/</td><td>0</td><td>0</td></tr><tr><td>dbfs:/mnt/landing/subscription/</td><td>subscription/</td><td>0</td><td>0</td></tr><tr><td>dbfs:/mnt/landing/user/</td><td>user/</td><td>0</td><td>0</td></tr><tr><td>dbfs:/mnt/landing/vehicle/</td><td>vehicle/</td><td>0</td><td>0</td></tr></tbody></table></div>"
      ]
     },
     "metadata": {
      "application/vnd.databricks.v1+output": {
       "addedWidgets": {},
       "aggData": [],
       "aggError": "",
       "aggOverflow": false,
       "aggSchema": [],
       "aggSeriesLimitReached": false,
       "aggType": "",
       "arguments": {},
       "columnCustomDisplayInfos": {},
       "data": [
        [
         "dbfs:/mnt/landing/bank/",
         "bank/",
         0,
         0
        ],
        [
         "dbfs:/mnt/landing/beer/",
         "beer/",
         0,
         0
        ],
        [
         "dbfs:/mnt/landing/coffee/",
         "coffee/",
         0,
         0
        ],
        [
         "dbfs:/mnt/landing/commerce/",
         "commerce/",
         0,
         0
        ],
        [
         "dbfs:/mnt/landing/company/",
         "company/",
         0,
         0
        ],
        [
         "dbfs:/mnt/landing/computer/",
         "computer/",
         0,
         0
        ],
        [
         "dbfs:/mnt/landing/credit_card/",
         "credit_card/",
         0,
         0
        ],
        [
         "dbfs:/mnt/landing/dessert/",
         "dessert/",
         0,
         0
        ],
        [
         "dbfs:/mnt/landing/device/",
         "device/",
         0,
         0
        ],
        [
         "dbfs:/mnt/landing/food/",
         "food/",
         0,
         0
        ],
        [
         "dbfs:/mnt/landing/restaurant/",
         "restaurant/",
         0,
         0
        ],
        [
         "dbfs:/mnt/landing/stripe/",
         "stripe/",
         0,
         0
        ],
        [
         "dbfs:/mnt/landing/subscription/",
         "subscription/",
         0,
         0
        ],
        [
         "dbfs:/mnt/landing/user/",
         "user/",
         0,
         0
        ],
        [
         "dbfs:/mnt/landing/vehicle/",
         "vehicle/",
         0,
         0
        ]
       ],
       "datasetInfos": [],
       "dbfsResultPath": null,
       "isJsonSchema": true,
       "metadata": {},
       "overflow": false,
       "plotOptions": {
        "customPlotOptions": {},
        "displayType": "table",
        "pivotAggregation": null,
        "pivotColumns": null,
        "xColumns": null,
        "yColumns": null
       },
       "removedWidgets": [],
       "schema": [
        {
         "metadata": "{}",
         "name": "path",
         "type": "\"string\""
        },
        {
         "metadata": "{}",
         "name": "name",
         "type": "\"string\""
        },
        {
         "metadata": "{}",
         "name": "size",
         "type": "\"long\""
        },
        {
         "metadata": "{}",
         "name": "modificationTime",
         "type": "\"long\""
        }
       ],
       "type": "table"
      }
     },
     "output_type": "display_data"
    },
    {
     "output_type": "display_data",
     "data": {
      "text/html": [
       "<style scoped>\n",
       "  .table-result-container {\n",
       "    max-height: 300px;\n",
       "    overflow: auto;\n",
       "  }\n",
       "  table, th, td {\n",
       "    border: 1px solid black;\n",
       "    border-collapse: collapse;\n",
       "  }\n",
       "  th, td {\n",
       "    padding: 5px;\n",
       "  }\n",
       "  th {\n",
       "    text-align: left;\n",
       "  }\n",
       "</style><div class='table-result-container'><table class='table-result'><thead style='background-color: white'><tr><th>path</th><th>name</th><th>size</th><th>modificationTime</th></tr></thead><tbody><tr><td>dbfs:/mnt/processing/parquet/</td><td>parquet/</td><td>0</td><td>0</td></tr><tr><td>dbfs:/mnt/processing/users/</td><td>users/</td><td>0</td><td>0</td></tr><tr><td>dbfs:/mnt/processing/vehicles/</td><td>vehicles/</td><td>0</td><td>0</td></tr></tbody></table></div>"
      ]
     },
     "metadata": {
      "application/vnd.databricks.v1+output": {
       "addedWidgets": {},
       "aggData": [],
       "aggError": "",
       "aggOverflow": false,
       "aggSchema": [],
       "aggSeriesLimitReached": false,
       "aggType": "",
       "arguments": {},
       "columnCustomDisplayInfos": {},
       "data": [
        [
         "dbfs:/mnt/processing/parquet/",
         "parquet/",
         0,
         0
        ],
        [
         "dbfs:/mnt/processing/users/",
         "users/",
         0,
         0
        ],
        [
         "dbfs:/mnt/processing/vehicles/",
         "vehicles/",
         0,
         0
        ]
       ],
       "datasetInfos": [],
       "dbfsResultPath": null,
       "isJsonSchema": true,
       "metadata": {},
       "overflow": false,
       "plotOptions": {
        "customPlotOptions": {},
        "displayType": "table",
        "pivotAggregation": null,
        "pivotColumns": null,
        "xColumns": null,
        "yColumns": null
       },
       "removedWidgets": [],
       "schema": [
        {
         "metadata": "{}",
         "name": "path",
         "type": "\"string\""
        },
        {
         "metadata": "{}",
         "name": "name",
         "type": "\"string\""
        },
        {
         "metadata": "{}",
         "name": "size",
         "type": "\"long\""
        },
        {
         "metadata": "{}",
         "name": "modificationTime",
         "type": "\"long\""
        }
       ],
       "type": "table"
      }
     },
     "output_type": "display_data"
    },
    {
     "output_type": "display_data",
     "data": {
      "text/html": [
       "<style scoped>\n",
       "  .table-result-container {\n",
       "    max-height: 300px;\n",
       "    overflow: auto;\n",
       "  }\n",
       "  table, th, td {\n",
       "    border: 1px solid black;\n",
       "    border-collapse: collapse;\n",
       "  }\n",
       "  th, td {\n",
       "    padding: 5px;\n",
       "  }\n",
       "  th {\n",
       "    text-align: left;\n",
       "  }\n",
       "</style><div class='table-result-container'><table class='table-result'><thead style='background-color: white'><tr><th>path</th><th>name</th><th>size</th><th>modificationTime</th></tr></thead><tbody><tr><td>dbfs:/mnt/curated/batch/</td><td>batch/</td><td>0</td><td>0</td></tr><tr><td>dbfs:/mnt/curated/pq_dataset_users_vehicles.parquet/</td><td>pq_dataset_users_vehicles.parquet/</td><td>0</td><td>0</td></tr></tbody></table></div>"
      ]
     },
     "metadata": {
      "application/vnd.databricks.v1+output": {
       "addedWidgets": {},
       "aggData": [],
       "aggError": "",
       "aggOverflow": false,
       "aggSchema": [],
       "aggSeriesLimitReached": false,
       "aggType": "",
       "arguments": {},
       "columnCustomDisplayInfos": {},
       "data": [
        [
         "dbfs:/mnt/curated/batch/",
         "batch/",
         0,
         0
        ],
        [
         "dbfs:/mnt/curated/pq_dataset_users_vehicles.parquet/",
         "pq_dataset_users_vehicles.parquet/",
         0,
         0
        ]
       ],
       "datasetInfos": [],
       "dbfsResultPath": null,
       "isJsonSchema": true,
       "metadata": {},
       "overflow": false,
       "plotOptions": {
        "customPlotOptions": {},
        "displayType": "table",
        "pivotAggregation": null,
        "pivotColumns": null,
        "xColumns": null,
        "yColumns": null
       },
       "removedWidgets": [],
       "schema": [
        {
         "metadata": "{}",
         "name": "path",
         "type": "\"string\""
        },
        {
         "metadata": "{}",
         "name": "name",
         "type": "\"string\""
        },
        {
         "metadata": "{}",
         "name": "size",
         "type": "\"long\""
        },
        {
         "metadata": "{}",
         "name": "modificationTime",
         "type": "\"long\""
        }
       ],
       "type": "table"
      }
     },
     "output_type": "display_data"
    },
    {
     "output_type": "display_data",
     "data": {
      "text/html": [
       "<style scoped>\n",
       "  .table-result-container {\n",
       "    max-height: 300px;\n",
       "    overflow: auto;\n",
       "  }\n",
       "  table, th, td {\n",
       "    border: 1px solid black;\n",
       "    border-collapse: collapse;\n",
       "  }\n",
       "  th, td {\n",
       "    padding: 5px;\n",
       "  }\n",
       "  th {\n",
       "    text-align: left;\n",
       "  }\n",
       "</style><div class='table-result-container'><table class='table-result'><thead style='background-color: white'><tr><th>path</th><th>name</th><th>size</th><th>modificationTime</th></tr></thead><tbody><tr><td>dbfs:/mnt/bs-stg-files/app/</td><td>app/</td><td>0</td><td>0</td></tr><tr><td>dbfs:/mnt/bs-stg-files/business/</td><td>business/</td><td>0</td><td>0</td></tr><tr><td>dbfs:/mnt/bs-stg-files/mnt/</td><td>mnt/</td><td>0</td><td>0</td></tr><tr><td>dbfs:/mnt/bs-stg-files/reviews/</td><td>reviews/</td><td>0</td><td>0</td></tr><tr><td>dbfs:/mnt/bs-stg-files/synapse/</td><td>synapse/</td><td>0</td><td>0</td></tr><tr><td>dbfs:/mnt/bs-stg-files/users/</td><td>users/</td><td>0</td><td>0</td></tr><tr><td>dbfs:/mnt/bs-stg-files/yelp_academic_dataset_review_3.json</td><td>yelp_academic_dataset_review_3.json</td><td>4717078453</td><td>1657633747000</td></tr><tr><td>dbfs:/mnt/bs-stg-files/yelp_academic_dataset_review_30.json</td><td>yelp_academic_dataset_review_30.json</td><td>4717078453</td><td>1657633452000</td></tr><tr><td>dbfs:/mnt/bs-stg-files/yelp_academic_dataset_review_31.json</td><td>yelp_academic_dataset_review_31.json</td><td>4717078453</td><td>1657633688000</td></tr><tr><td>dbfs:/mnt/bs-stg-files/yelp_academic_dataset_review_32.json</td><td>yelp_academic_dataset_review_32.json</td><td>4717078453</td><td>1657633642000</td></tr><tr><td>dbfs:/mnt/bs-stg-files/yelp_academic_dataset_review_33.json</td><td>yelp_academic_dataset_review_33.json</td><td>4717078453</td><td>1657633427000</td></tr><tr><td>dbfs:/mnt/bs-stg-files/yelp_academic_dataset_review_34.json</td><td>yelp_academic_dataset_review_34.json</td><td>4717078453</td><td>1657633454000</td></tr><tr><td>dbfs:/mnt/bs-stg-files/yelp_academic_dataset_review_35.json</td><td>yelp_academic_dataset_review_35.json</td><td>4717078453</td><td>1657633431000</td></tr><tr><td>dbfs:/mnt/bs-stg-files/yelp_academic_dataset_review_36.json</td><td>yelp_academic_dataset_review_36.json</td><td>4717078453</td><td>1657633780000</td></tr><tr><td>dbfs:/mnt/bs-stg-files/yelp_academic_dataset_review_37.json</td><td>yelp_academic_dataset_review_37.json</td><td>4717078453</td><td>1657633750000</td></tr><tr><td>dbfs:/mnt/bs-stg-files/yelp_academic_dataset_review_38.json</td><td>yelp_academic_dataset_review_38.json</td><td>4717078453</td><td>1657633592000</td></tr><tr><td>dbfs:/mnt/bs-stg-files/yelp_academic_dataset_review_39.json</td><td>yelp_academic_dataset_review_39.json</td><td>4717078453</td><td>1657633519000</td></tr><tr><td>dbfs:/mnt/bs-stg-files/yelp_academic_dataset_review_4.json</td><td>yelp_academic_dataset_review_4.json</td><td>4717078453</td><td>1657633746000</td></tr><tr><td>dbfs:/mnt/bs-stg-files/yelp_academic_dataset_review_40.json</td><td>yelp_academic_dataset_review_40.json</td><td>4717078453</td><td>1657633471000</td></tr><tr><td>dbfs:/mnt/bs-stg-files/yelp_academic_dataset_review_41.json</td><td>yelp_academic_dataset_review_41.json</td><td>4717078453</td><td>1657633664000</td></tr><tr><td>dbfs:/mnt/bs-stg-files/yelp_academic_dataset_review_42.json</td><td>yelp_academic_dataset_review_42.json</td><td>4717078453</td><td>1657633666000</td></tr><tr><td>dbfs:/mnt/bs-stg-files/yelp_academic_dataset_review_43.json</td><td>yelp_academic_dataset_review_43.json</td><td>4717078453</td><td>1657633732000</td></tr><tr><td>dbfs:/mnt/bs-stg-files/yelp_academic_dataset_review_44.json</td><td>yelp_academic_dataset_review_44.json</td><td>4717078453</td><td>1657633394000</td></tr><tr><td>dbfs:/mnt/bs-stg-files/yelp_academic_dataset_review_45.json</td><td>yelp_academic_dataset_review_45.json</td><td>4717078453</td><td>1657633638000</td></tr><tr><td>dbfs:/mnt/bs-stg-files/yelp_academic_dataset_review_5.json</td><td>yelp_academic_dataset_review_5.json</td><td>4717078453</td><td>1657633484000</td></tr><tr><td>dbfs:/mnt/bs-stg-files/yelp_academic_dataset_review_6.json</td><td>yelp_academic_dataset_review_6.json</td><td>4717078453</td><td>1657633672000</td></tr><tr><td>dbfs:/mnt/bs-stg-files/yelp_academic_dataset_review_7.json</td><td>yelp_academic_dataset_review_7.json</td><td>4717078453</td><td>1657633420000</td></tr><tr><td>dbfs:/mnt/bs-stg-files/yelp_academic_dataset_review_8.json</td><td>yelp_academic_dataset_review_8.json</td><td>4717078453</td><td>1657633502000</td></tr><tr><td>dbfs:/mnt/bs-stg-files/yelp_academic_dataset_review_9.json</td><td>yelp_academic_dataset_review_9.json</td><td>4717078453</td><td>1657633538000</td></tr></tbody></table></div>"
      ]
     },
     "metadata": {
      "application/vnd.databricks.v1+output": {
       "addedWidgets": {},
       "aggData": [],
       "aggError": "",
       "aggOverflow": false,
       "aggSchema": [],
       "aggSeriesLimitReached": false,
       "aggType": "",
       "arguments": {},
       "columnCustomDisplayInfos": {},
       "data": [
        [
         "dbfs:/mnt/bs-stg-files/app/",
         "app/",
         0,
         0
        ],
        [
         "dbfs:/mnt/bs-stg-files/business/",
         "business/",
         0,
         0
        ],
        [
         "dbfs:/mnt/bs-stg-files/mnt/",
         "mnt/",
         0,
         0
        ],
        [
         "dbfs:/mnt/bs-stg-files/reviews/",
         "reviews/",
         0,
         0
        ],
        [
         "dbfs:/mnt/bs-stg-files/synapse/",
         "synapse/",
         0,
         0
        ],
        [
         "dbfs:/mnt/bs-stg-files/users/",
         "users/",
         0,
         0
        ],
        [
         "dbfs:/mnt/bs-stg-files/yelp_academic_dataset_review_3.json",
         "yelp_academic_dataset_review_3.json",
         4717078453,
         1657633747000
        ],
        [
         "dbfs:/mnt/bs-stg-files/yelp_academic_dataset_review_30.json",
         "yelp_academic_dataset_review_30.json",
         4717078453,
         1657633452000
        ],
        [
         "dbfs:/mnt/bs-stg-files/yelp_academic_dataset_review_31.json",
         "yelp_academic_dataset_review_31.json",
         4717078453,
         1657633688000
        ],
        [
         "dbfs:/mnt/bs-stg-files/yelp_academic_dataset_review_32.json",
         "yelp_academic_dataset_review_32.json",
         4717078453,
         1657633642000
        ],
        [
         "dbfs:/mnt/bs-stg-files/yelp_academic_dataset_review_33.json",
         "yelp_academic_dataset_review_33.json",
         4717078453,
         1657633427000
        ],
        [
         "dbfs:/mnt/bs-stg-files/yelp_academic_dataset_review_34.json",
         "yelp_academic_dataset_review_34.json",
         4717078453,
         1657633454000
        ],
        [
         "dbfs:/mnt/bs-stg-files/yelp_academic_dataset_review_35.json",
         "yelp_academic_dataset_review_35.json",
         4717078453,
         1657633431000
        ],
        [
         "dbfs:/mnt/bs-stg-files/yelp_academic_dataset_review_36.json",
         "yelp_academic_dataset_review_36.json",
         4717078453,
         1657633780000
        ],
        [
         "dbfs:/mnt/bs-stg-files/yelp_academic_dataset_review_37.json",
         "yelp_academic_dataset_review_37.json",
         4717078453,
         1657633750000
        ],
        [
         "dbfs:/mnt/bs-stg-files/yelp_academic_dataset_review_38.json",
         "yelp_academic_dataset_review_38.json",
         4717078453,
         1657633592000
        ],
        [
         "dbfs:/mnt/bs-stg-files/yelp_academic_dataset_review_39.json",
         "yelp_academic_dataset_review_39.json",
         4717078453,
         1657633519000
        ],
        [
         "dbfs:/mnt/bs-stg-files/yelp_academic_dataset_review_4.json",
         "yelp_academic_dataset_review_4.json",
         4717078453,
         1657633746000
        ],
        [
         "dbfs:/mnt/bs-stg-files/yelp_academic_dataset_review_40.json",
         "yelp_academic_dataset_review_40.json",
         4717078453,
         1657633471000
        ],
        [
         "dbfs:/mnt/bs-stg-files/yelp_academic_dataset_review_41.json",
         "yelp_academic_dataset_review_41.json",
         4717078453,
         1657633664000
        ],
        [
         "dbfs:/mnt/bs-stg-files/yelp_academic_dataset_review_42.json",
         "yelp_academic_dataset_review_42.json",
         4717078453,
         1657633666000
        ],
        [
         "dbfs:/mnt/bs-stg-files/yelp_academic_dataset_review_43.json",
         "yelp_academic_dataset_review_43.json",
         4717078453,
         1657633732000
        ],
        [
         "dbfs:/mnt/bs-stg-files/yelp_academic_dataset_review_44.json",
         "yelp_academic_dataset_review_44.json",
         4717078453,
         1657633394000
        ],
        [
         "dbfs:/mnt/bs-stg-files/yelp_academic_dataset_review_45.json",
         "yelp_academic_dataset_review_45.json",
         4717078453,
         1657633638000
        ],
        [
         "dbfs:/mnt/bs-stg-files/yelp_academic_dataset_review_5.json",
         "yelp_academic_dataset_review_5.json",
         4717078453,
         1657633484000
        ],
        [
         "dbfs:/mnt/bs-stg-files/yelp_academic_dataset_review_6.json",
         "yelp_academic_dataset_review_6.json",
         4717078453,
         1657633672000
        ],
        [
         "dbfs:/mnt/bs-stg-files/yelp_academic_dataset_review_7.json",
         "yelp_academic_dataset_review_7.json",
         4717078453,
         1657633420000
        ],
        [
         "dbfs:/mnt/bs-stg-files/yelp_academic_dataset_review_8.json",
         "yelp_academic_dataset_review_8.json",
         4717078453,
         1657633502000
        ],
        [
         "dbfs:/mnt/bs-stg-files/yelp_academic_dataset_review_9.json",
         "yelp_academic_dataset_review_9.json",
         4717078453,
         1657633538000
        ]
       ],
       "datasetInfos": [],
       "dbfsResultPath": null,
       "isJsonSchema": true,
       "metadata": {},
       "overflow": false,
       "plotOptions": {
        "customPlotOptions": {},
        "displayType": "table",
        "pivotAggregation": null,
        "pivotColumns": null,
        "xColumns": null,
        "yColumns": null
       },
       "removedWidgets": [],
       "schema": [
        {
         "metadata": "{}",
         "name": "path",
         "type": "\"string\""
        },
        {
         "metadata": "{}",
         "name": "name",
         "type": "\"string\""
        },
        {
         "metadata": "{}",
         "name": "size",
         "type": "\"long\""
        },
        {
         "metadata": "{}",
         "name": "modificationTime",
         "type": "\"long\""
        }
       ],
       "type": "table"
      }
     },
     "output_type": "display_data"
    },
    {
     "output_type": "display_data",
     "data": {
      "text/html": [
       "<style scoped>\n",
       "  .table-result-container {\n",
       "    max-height: 300px;\n",
       "    overflow: auto;\n",
       "  }\n",
       "  table, th, td {\n",
       "    border: 1px solid black;\n",
       "    border-collapse: collapse;\n",
       "  }\n",
       "  th, td {\n",
       "    padding: 5px;\n",
       "  }\n",
       "  th {\n",
       "    text-align: left;\n",
       "  }\n",
       "</style><div class='table-result-container'><table class='table-result'><thead style='background-color: white'><tr><th>path</th><th>name</th><th>size</th><th>modificationTime</th></tr></thead><tbody><tr><td>dbfs:/mnt/bs-production/delta/</td><td>delta/</td><td>0</td><td>0</td></tr><tr><td>dbfs:/mnt/bs-production/orc/</td><td>orc/</td><td>0</td><td>0</td></tr><tr><td>dbfs:/mnt/bs-production/parquet/</td><td>parquet/</td><td>0</td><td>0</td></tr></tbody></table></div>"
      ]
     },
     "metadata": {
      "application/vnd.databricks.v1+output": {
       "addedWidgets": {},
       "aggData": [],
       "aggError": "",
       "aggOverflow": false,
       "aggSchema": [],
       "aggSeriesLimitReached": false,
       "aggType": "",
       "arguments": {},
       "columnCustomDisplayInfos": {},
       "data": [
        [
         "dbfs:/mnt/bs-production/delta/",
         "delta/",
         0,
         0
        ],
        [
         "dbfs:/mnt/bs-production/orc/",
         "orc/",
         0,
         0
        ],
        [
         "dbfs:/mnt/bs-production/parquet/",
         "parquet/",
         0,
         0
        ]
       ],
       "datasetInfos": [],
       "dbfsResultPath": null,
       "isJsonSchema": true,
       "metadata": {},
       "overflow": false,
       "plotOptions": {
        "customPlotOptions": {},
        "displayType": "table",
        "pivotAggregation": null,
        "pivotColumns": null,
        "xColumns": null,
        "yColumns": null
       },
       "removedWidgets": [],
       "schema": [
        {
         "metadata": "{}",
         "name": "path",
         "type": "\"string\""
        },
        {
         "metadata": "{}",
         "name": "name",
         "type": "\"string\""
        },
        {
         "metadata": "{}",
         "name": "size",
         "type": "\"long\""
        },
        {
         "metadata": "{}",
         "name": "modificationTime",
         "type": "\"long\""
        }
       ],
       "type": "table"
      }
     },
     "output_type": "display_data"
    },
    {
     "output_type": "display_data",
     "data": {
      "text/html": [
       "<style scoped>\n",
       "  .table-result-container {\n",
       "    max-height: 300px;\n",
       "    overflow: auto;\n",
       "  }\n",
       "  table, th, td {\n",
       "    border: 1px solid black;\n",
       "    border-collapse: collapse;\n",
       "  }\n",
       "  th, td {\n",
       "    padding: 5px;\n",
       "  }\n",
       "  th {\n",
       "    text-align: left;\n",
       "  }\n",
       "</style><div class='table-result-container'><table class='table-result'><thead style='background-color: white'><tr><th>path</th><th>name</th><th>size</th><th>modificationTime</th></tr></thead><tbody><tr><td>dbfs:/mnt/owshq/delta/</td><td>delta/</td><td>0</td><td>0</td></tr><tr><td>dbfs:/mnt/owshq/parquet/</td><td>parquet/</td><td>0</td><td>0</td></tr></tbody></table></div>"
      ]
     },
     "metadata": {
      "application/vnd.databricks.v1+output": {
       "addedWidgets": {},
       "aggData": [],
       "aggError": "",
       "aggOverflow": false,
       "aggSchema": [],
       "aggSeriesLimitReached": false,
       "aggType": "",
       "arguments": {},
       "columnCustomDisplayInfos": {},
       "data": [
        [
         "dbfs:/mnt/owshq/delta/",
         "delta/",
         0,
         0
        ],
        [
         "dbfs:/mnt/owshq/parquet/",
         "parquet/",
         0,
         0
        ]
       ],
       "datasetInfos": [],
       "dbfsResultPath": null,
       "isJsonSchema": true,
       "metadata": {},
       "overflow": false,
       "plotOptions": {
        "customPlotOptions": {},
        "displayType": "table",
        "pivotAggregation": null,
        "pivotColumns": null,
        "xColumns": null,
        "yColumns": null
       },
       "removedWidgets": [],
       "schema": [
        {
         "metadata": "{}",
         "name": "path",
         "type": "\"string\""
        },
        {
         "metadata": "{}",
         "name": "name",
         "type": "\"string\""
        },
        {
         "metadata": "{}",
         "name": "size",
         "type": "\"long\""
        },
        {
         "metadata": "{}",
         "name": "modificationTime",
         "type": "\"long\""
        }
       ],
       "type": "table"
      }
     },
     "output_type": "display_data"
    }
   ],
   "source": [
    "display(dbutils.fs.ls(\"/mnt/\"))\n",
    "\n",
    "display(dbutils.fs.ls(\"/mnt/landing/\"))\n",
    "display(dbutils.fs.ls(\"/mnt/processing/\"))\n",
    "display(dbutils.fs.ls(\"/mnt/curated/\"))\n",
    "display(dbutils.fs.ls(\"/mnt/bs-stg-files/\"))\n",
    "display(dbutils.fs.ls(\"/mnt/bs-production/\"))\n",
    "display(dbutils.fs.ls(\"/mnt/owshq/\"))"
   ]
  },
  {
   "cell_type": "code",
   "execution_count": 0,
   "metadata": {
    "application/vnd.databricks.v1+cell": {
     "cellMetadata": {},
     "inputWidgets": {},
     "nuid": "b5f332f9-ae16-4e75-b567-ced121e93530",
     "showTitle": true,
     "title": "Unmount"
    }
   },
   "outputs": [
    {
     "output_type": "display_data",
     "data": {
      "text/html": [
       "<style scoped>\n",
       "  .ansiout {\n",
       "    display: block;\n",
       "    unicode-bidi: embed;\n",
       "    white-space: pre-wrap;\n",
       "    word-wrap: break-word;\n",
       "    word-break: break-all;\n",
       "    font-family: \"Menlo\", \"Monaco\", \"Consolas\", \"Ubuntu Mono\", \"Source Code Pro\", monospace;\n",
       "    font-size: 13px;\n",
       "    color: #555;\n",
       "    margin-left: 4px;\n",
       "    line-height: 19px;\n",
       "  }\n",
       "</style>\n",
       "<div class=\"ansiout\">/mnt/landing has been unmounted.\n",
       "/mnt/processing has been unmounted.\n",
       "/mnt/curated has been unmounted.\n",
       "/mnt/bs-stg-files has been unmounted.\n",
       "/mnt/bs-production has been unmounted.\n",
       "/mnt/owshq has been unmounted.\n",
       "Out[3]: True</div>"
      ]
     },
     "metadata": {
      "application/vnd.databricks.v1+output": {
       "addedWidgets": {},
       "arguments": {},
       "data": "<div class=\"ansiout\">/mnt/landing has been unmounted.\n/mnt/processing has been unmounted.\n/mnt/curated has been unmounted.\n/mnt/bs-stg-files has been unmounted.\n/mnt/bs-production has been unmounted.\n/mnt/owshq has been unmounted.\nOut[3]: True</div>",
       "datasetInfos": [],
       "metadata": {},
       "removedWidgets": [],
       "type": "html"
      }
     },
     "output_type": "display_data"
    }
   ],
   "source": [
    "dbutils.fs.unmount(\"/mnt/landing\")\n",
    "dbutils.fs.unmount(\"/mnt/processing\")\n",
    "dbutils.fs.unmount(\"/mnt/curated\")\n",
    "dbutils.fs.unmount(\"/mnt/bs-stg-files\")\n",
    "dbutils.fs.unmount(\"/mnt/bs-production\")\n",
    "dbutils.fs.unmount(\"/mnt/owshq\")"
   ]
  },
  {
   "cell_type": "code",
   "execution_count": 0,
   "metadata": {
    "application/vnd.databricks.v1+cell": {
     "cellMetadata": {},
     "inputWidgets": {},
     "nuid": "e80370a8-02d8-4459-93d7-2ce4783f8449",
     "showTitle": false,
     "title": ""
    }
   },
   "outputs": [],
   "source": []
  }
 ],
 "metadata": {
  "application/vnd.databricks.v1+notebook": {
   "dashboards": [],
   "language": "python",
   "notebookMetadata": {
    "pythonIndentUnit": 2
   },
   "notebookName": "1_connect_blob_storage",
   "widgets": {}
  }
 },
 "nbformat": 4,
 "nbformat_minor": 0
}
