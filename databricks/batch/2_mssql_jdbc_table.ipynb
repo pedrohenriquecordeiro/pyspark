{
 "cells": [
  {
   "cell_type": "markdown",
   "metadata": {
    "application/vnd.databricks.v1+cell": {
     "cellMetadata": {},
     "inputWidgets": {},
     "nuid": "a4c3027d-c14f-46bf-9870-498729847374",
     "showTitle": false,
     "title": ""
    }
   },
   "source": [
    "\n",
    "# Reading Table from RDBMS [SQL Server]\n",
    "> *using jdbc connector to tap into a relational database system* "
   ]
  },
  {
   "cell_type": "markdown",
   "metadata": {
    "application/vnd.databricks.v1+cell": {
     "cellMetadata": {},
     "inputWidgets": {},
     "nuid": "c72a72c2-fc3b-4776-90dc-eb1ac4b10e76",
     "showTitle": false,
     "title": ""
    }
   },
   "source": [
    "\n",
    "<br>\n",
    "  \n",
    "<img width=\"900px\" src ='https://owshqblobstg.blob.core.windows.net/stgfiles/png_files/rdbms_bronze0.png'>\n",
    "  \n",
    "<br>"
   ]
  },
  {
   "cell_type": "code",
   "execution_count": 0,
   "metadata": {
    "application/vnd.databricks.v1+cell": {
     "cellMetadata": {},
     "inputWidgets": {},
     "nuid": "b213a007-cdbb-4b04-9220-4ebd4b392a02",
     "showTitle": true,
     "title": "Adding Parameters to Access SQL Server"
    }
   },
   "outputs": [
    {
     "output_type": "display_data",
     "data": {
      "text/html": [
       "<style scoped>\n",
       "  .ansiout {\n",
       "    display: block;\n",
       "    unicode-bidi: embed;\n",
       "    white-space: pre-wrap;\n",
       "    word-wrap: break-word;\n",
       "    word-break: break-all;\n",
       "    font-family: \"Menlo\", \"Monaco\", \"Consolas\", \"Ubuntu Mono\", \"Source Code Pro\", monospace;\n",
       "    font-size: 13px;\n",
       "    color: #555;\n",
       "    margin-left: 4px;\n",
       "    line-height: 19px;\n",
       "  }\n",
       "</style>\n",
       "<div class=\"ansiout\"></div>"
      ]
     },
     "metadata": {
      "application/vnd.databricks.v1+output": {
       "addedWidgets": {},
       "arguments": {},
       "data": "<div class=\"ansiout\"></div>",
       "datasetInfos": [],
       "metadata": {},
       "removedWidgets": [],
       "type": "html"
      }
     },
     "output_type": "display_data"
    }
   ],
   "source": [
    "# all these configurations can be saved into the key vault [azure or databricks]\n",
    "# meet the data source = sql server\n",
    "# specifying connection string\n",
    "# add info related to connectivity\n",
    "jdbcHostname = \"159.203.144.206\"\n",
    "jdbcDatabase = \"owshq\"\n",
    "jdbcUsername = \"sa\"\n",
    "jdbcPassword = \"IlS27OpKxw9EYObU80dz\"\n",
    "jdbcPort = 1433\n",
    "jdbcUrl = \"jdbc:sqlserver://{0}:{1};database={2};user={3};password={4};\".format(jdbcHostname, jdbcPort, jdbcDatabase, jdbcUsername, jdbcPassword)"
   ]
  },
  {
   "cell_type": "code",
   "execution_count": 0,
   "metadata": {
    "application/vnd.databricks.v1+cell": {
     "cellMetadata": {},
     "inputWidgets": {},
     "nuid": "fd226780-8a7e-4cb8-bf09-9dc431185468",
     "showTitle": true,
     "title": "Set JDBC Connectivity"
    }
   },
   "outputs": [
    {
     "output_type": "display_data",
     "data": {
      "text/html": [
       "<style scoped>\n",
       "  .ansiout {\n",
       "    display: block;\n",
       "    unicode-bidi: embed;\n",
       "    white-space: pre-wrap;\n",
       "    word-wrap: break-word;\n",
       "    word-break: break-all;\n",
       "    font-family: \"Menlo\", \"Monaco\", \"Consolas\", \"Ubuntu Mono\", \"Source Code Pro\", monospace;\n",
       "    font-size: 13px;\n",
       "    color: #555;\n",
       "    margin-left: 4px;\n",
       "    line-height: 19px;\n",
       "  }\n",
       "</style>\n",
       "<div class=\"ansiout\"></div>"
      ]
     },
     "metadata": {
      "application/vnd.databricks.v1+output": {
       "addedWidgets": {},
       "arguments": {},
       "data": "<div class=\"ansiout\"></div>",
       "datasetInfos": [],
       "metadata": {},
       "removedWidgets": [],
       "type": "html"
      }
     },
     "output_type": "display_data"
    }
   ],
   "source": [
    "# building the connection string to access resource\n",
    "# if not installed, configure sql server driver\n",
    "# com.microsoft.sqlserver.jdbc.SQLServerDriver\n",
    "jdbcUrl = \"jdbc:sqlserver://{0}:{1};database={2}\".format(jdbcHostname, jdbcPort, jdbcDatabase)\n",
    "connectionProperties = {\n",
    "  \"user\" : jdbcUsername,\n",
    "  \"password\" : jdbcPassword,\n",
    "  \"driver\" : \"com.microsoft.sqlserver.jdbc.SQLServerDriver\"\n",
    "}"
   ]
  },
  {
   "cell_type": "code",
   "execution_count": 0,
   "metadata": {
    "application/vnd.databricks.v1+cell": {
     "cellMetadata": {},
     "inputWidgets": {},
     "nuid": "4fdf7270-3db6-4f63-b546-18b3cde2a712",
     "showTitle": true,
     "title": "Test Pushdown Query - Read Data from SQL Server"
    }
   },
   "outputs": [
    {
     "output_type": "display_data",
     "data": {
      "text/html": [
       "<style scoped>\n",
       "  .table-result-container {\n",
       "    max-height: 300px;\n",
       "    overflow: auto;\n",
       "  }\n",
       "  table, th, td {\n",
       "    border: 1px solid black;\n",
       "    border-collapse: collapse;\n",
       "  }\n",
       "  th, td {\n",
       "    padding: 5px;\n",
       "  }\n",
       "  th {\n",
       "    text-align: left;\n",
       "  }\n",
       "</style><div class='table-result-container'><table class='table-result'><thead style='background-color: white'><tr><th>user_id</th><th>plan</th><th>status</th><th>payment_method</th><th>subscription_term</th><th>payment_term</th></tr></thead><tbody><tr><td>312</td><td>Platinum</td><td>Active</td><td>WeChat Pay</td><td>Daily</td><td>Monthly</td></tr><tr><td>433</td><td>Platinum</td><td>Active</td><td>Cheque</td><td>Daily</td><td>Monthly</td></tr><tr><td>1074</td><td>Basic</td><td>Active</td><td>Alipay</td><td>Triennal</td><td>Annual</td></tr><tr><td>1516</td><td>Silver</td><td>Active</td><td>Cash</td><td>Biennal</td><td>Payment in advance</td></tr><tr><td>2194</td><td>Professional</td><td>Active</td><td>Google Pay</td><td>Annual</td><td>Full subscription</td></tr><tr><td>2214</td><td>Standard</td><td>Active</td><td>WeChat Pay</td><td>Monthly</td><td>Payment in advance</td></tr><tr><td>2313</td><td>Free Trial</td><td>Active</td><td>Alipay</td><td>Triennal</td><td>Full subscription</td></tr><tr><td>2317</td><td>Silver</td><td>Active</td><td>Credit card</td><td>Biennal</td><td>Full subscription</td></tr><tr><td>2893</td><td>Professional</td><td>Active</td><td>WeChat Pay</td><td>Annual</td><td>Payment in advance</td></tr><tr><td>3996</td><td>Diamond</td><td>Active</td><td>Visa checkout</td><td>Quinquennal</td><td>Annual</td></tr><tr><td>6418</td><td>Professional</td><td>Active</td><td>WeChat Pay</td><td>Daily</td><td>Payment in advance</td></tr><tr><td>8306</td><td>Premium</td><td>Active</td><td>WeChat Pay</td><td>Annual</td><td>Monthly</td></tr><tr><td>8567</td><td>Basic</td><td>Active</td><td>Visa checkout</td><td>Monthly</td><td>Annual</td></tr><tr><td>8715</td><td>Business</td><td>Active</td><td>WeChat Pay</td><td>Quinquennal</td><td>Monthly</td></tr><tr><td>9973</td><td>Premium</td><td>Active</td><td>Money transfer</td><td>Lifetime</td><td>Full subscription</td></tr></tbody></table></div>"
      ]
     },
     "metadata": {
      "application/vnd.databricks.v1+output": {
       "addedWidgets": {},
       "aggData": [],
       "aggError": "",
       "aggOverflow": false,
       "aggSchema": [],
       "aggSeriesLimitReached": false,
       "aggType": "",
       "arguments": {},
       "columnCustomDisplayInfos": {},
       "data": [
        [
         312,
         "Platinum",
         "Active",
         "WeChat Pay",
         "Daily",
         "Monthly"
        ],
        [
         433,
         "Platinum",
         "Active",
         "Cheque",
         "Daily",
         "Monthly"
        ],
        [
         1074,
         "Basic",
         "Active",
         "Alipay",
         "Triennal",
         "Annual"
        ],
        [
         1516,
         "Silver",
         "Active",
         "Cash",
         "Biennal",
         "Payment in advance"
        ],
        [
         2194,
         "Professional",
         "Active",
         "Google Pay",
         "Annual",
         "Full subscription"
        ],
        [
         2214,
         "Standard",
         "Active",
         "WeChat Pay",
         "Monthly",
         "Payment in advance"
        ],
        [
         2313,
         "Free Trial",
         "Active",
         "Alipay",
         "Triennal",
         "Full subscription"
        ],
        [
         2317,
         "Silver",
         "Active",
         "Credit card",
         "Biennal",
         "Full subscription"
        ],
        [
         2893,
         "Professional",
         "Active",
         "WeChat Pay",
         "Annual",
         "Payment in advance"
        ],
        [
         3996,
         "Diamond",
         "Active",
         "Visa checkout",
         "Quinquennal",
         "Annual"
        ],
        [
         6418,
         "Professional",
         "Active",
         "WeChat Pay",
         "Daily",
         "Payment in advance"
        ],
        [
         8306,
         "Premium",
         "Active",
         "WeChat Pay",
         "Annual",
         "Monthly"
        ],
        [
         8567,
         "Basic",
         "Active",
         "Visa checkout",
         "Monthly",
         "Annual"
        ],
        [
         8715,
         "Business",
         "Active",
         "WeChat Pay",
         "Quinquennal",
         "Monthly"
        ],
        [
         9973,
         "Premium",
         "Active",
         "Money transfer",
         "Lifetime",
         "Full subscription"
        ]
       ],
       "datasetInfos": [],
       "dbfsResultPath": null,
       "isJsonSchema": true,
       "metadata": {},
       "overflow": false,
       "plotOptions": {
        "customPlotOptions": {},
        "displayType": "table",
        "pivotAggregation": null,
        "pivotColumns": null,
        "xColumns": null,
        "yColumns": null
       },
       "removedWidgets": [],
       "schema": [
        {
         "metadata": "{\"scale\":0}",
         "name": "user_id",
         "type": "\"long\""
        },
        {
         "metadata": "{\"scale\":0}",
         "name": "plan",
         "type": "\"string\""
        },
        {
         "metadata": "{\"scale\":0}",
         "name": "status",
         "type": "\"string\""
        },
        {
         "metadata": "{\"scale\":0}",
         "name": "payment_method",
         "type": "\"string\""
        },
        {
         "metadata": "{\"scale\":0}",
         "name": "subscription_term",
         "type": "\"string\""
        },
        {
         "metadata": "{\"scale\":0}",
         "name": "payment_term",
         "type": "\"string\""
        }
       ],
       "type": "table"
      }
     },
     "output_type": "display_data"
    }
   ],
   "source": [
    "# set query to be issued against sql server\n",
    "pushdown_query = \"(SELECT DISTINCT user_id, [plan], status, payment_method, subscription_term, payment_term FROM subscription WHERE status = 'Active') active_subscription\"\n",
    "\n",
    "# use dataframe to read from jdbc\n",
    "# url = constructured above\n",
    "# table = the query build \n",
    "# properties = connection\n",
    "# load data into dataframe\n",
    "df_active_subscription = spark.read.jdbc(url=jdbcUrl, table=pushdown_query, properties=connectionProperties)\n",
    "\n",
    "# show dataframe data\n",
    "display(df_active_subscription)"
   ]
  },
  {
   "cell_type": "code",
   "execution_count": 0,
   "metadata": {
    "application/vnd.databricks.v1+cell": {
     "cellMetadata": {},
     "inputWidgets": {},
     "nuid": "f31da44c-8a86-44e9-a4ab-d64f4a1f924d",
     "showTitle": false,
     "title": ""
    }
   },
   "outputs": [
    {
     "output_type": "display_data",
     "data": {
      "text/html": [
       "<style scoped>\n",
       "  .ansiout {\n",
       "    display: block;\n",
       "    unicode-bidi: embed;\n",
       "    white-space: pre-wrap;\n",
       "    word-wrap: break-word;\n",
       "    word-break: break-all;\n",
       "    font-family: \"Menlo\", \"Monaco\", \"Consolas\", \"Ubuntu Mono\", \"Source Code Pro\", monospace;\n",
       "    font-size: 13px;\n",
       "    color: #555;\n",
       "    margin-left: 4px;\n",
       "    line-height: 19px;\n",
       "  }\n",
       "</style>\n",
       "<div class=\"ansiout\">1\n",
       "</div>"
      ]
     },
     "metadata": {
      "application/vnd.databricks.v1+output": {
       "addedWidgets": {},
       "arguments": {},
       "data": "<div class=\"ansiout\">1\n</div>",
       "datasetInfos": [],
       "metadata": {},
       "removedWidgets": [],
       "type": "html"
      }
     },
     "output_type": "display_data"
    }
   ],
   "source": [
    "print(df_active_subscription.rdd.getNumPartitions())"
   ]
  },
  {
   "cell_type": "code",
   "execution_count": 0,
   "metadata": {
    "application/vnd.databricks.v1+cell": {
     "cellMetadata": {},
     "inputWidgets": {},
     "nuid": "0b445f3b-ea14-4c18-854d-27b8d21ce7ab",
     "showTitle": false,
     "title": ""
    }
   },
   "outputs": [
    {
     "output_type": "display_data",
     "data": {
      "text/html": [
       "<style scoped>\n",
       "  .ansiout {\n",
       "    display: block;\n",
       "    unicode-bidi: embed;\n",
       "    white-space: pre-wrap;\n",
       "    word-wrap: break-word;\n",
       "    word-break: break-all;\n",
       "    font-family: \"Menlo\", \"Monaco\", \"Consolas\", \"Ubuntu Mono\", \"Source Code Pro\", monospace;\n",
       "    font-size: 13px;\n",
       "    color: #555;\n",
       "    margin-left: 4px;\n",
       "    line-height: 19px;\n",
       "  }\n",
       "</style>\n",
       "<div class=\"ansiout\">Out[4]: 15</div>"
      ]
     },
     "metadata": {
      "application/vnd.databricks.v1+output": {
       "addedWidgets": {},
       "arguments": {},
       "data": "<div class=\"ansiout\">Out[4]: 15</div>",
       "datasetInfos": [],
       "metadata": {},
       "removedWidgets": [],
       "type": "html"
      }
     },
     "output_type": "display_data"
    }
   ],
   "source": [
    "df_active_subscription.count()"
   ]
  },
  {
   "cell_type": "markdown",
   "metadata": {
    "application/vnd.databricks.v1+cell": {
     "cellMetadata": {},
     "inputWidgets": {},
     "nuid": "b45330b1-3211-4632-843d-ffcf667afc65",
     "showTitle": true,
     "title": "Generate New Files into Data Lake ~ Blob Storage System"
    }
   },
   "source": [
    "\n",
    ">* generate new files to relational database sql server  \n",
    "python3.9 cli.py 'mssql'"
   ]
  },
  {
   "cell_type": "code",
   "execution_count": 0,
   "metadata": {
    "application/vnd.databricks.v1+cell": {
     "cellMetadata": {},
     "inputWidgets": {},
     "nuid": "7ef0a2ef-d3c1-4d26-b702-f287838e6863",
     "showTitle": true,
     "title": "Read Table Subscription"
    }
   },
   "outputs": [
    {
     "output_type": "display_data",
     "data": {
      "text/html": [
       "<style scoped>\n",
       "  .ansiout {\n",
       "    display: block;\n",
       "    unicode-bidi: embed;\n",
       "    white-space: pre-wrap;\n",
       "    word-wrap: break-word;\n",
       "    word-break: break-all;\n",
       "    font-family: \"Menlo\", \"Monaco\", \"Consolas\", \"Ubuntu Mono\", \"Source Code Pro\", monospace;\n",
       "    font-size: 13px;\n",
       "    color: #555;\n",
       "    margin-left: 4px;\n",
       "    line-height: 19px;\n",
       "  }\n",
       "</style>\n",
       "<div class=\"ansiout\">/databricks/spark/python/pyspark/sql/dataframe.py:146: FutureWarning: Deprecated in 2.0, use createOrReplaceTempView instead.\n",
       "  warnings.warn(\n",
       "</div>"
      ]
     },
     "metadata": {
      "application/vnd.databricks.v1+output": {
       "addedWidgets": {},
       "arguments": {},
       "data": "<div class=\"ansiout\">/databricks/spark/python/pyspark/sql/dataframe.py:146: FutureWarning: Deprecated in 2.0, use createOrReplaceTempView instead.\n  warnings.warn(\n</div>",
       "datasetInfos": [],
       "metadata": {},
       "removedWidgets": [],
       "type": "html"
      }
     },
     "output_type": "display_data"
    },
    {
     "output_type": "display_data",
     "data": {
      "text/html": [
       "<style scoped>\n",
       "  .table-result-container {\n",
       "    max-height: 300px;\n",
       "    overflow: auto;\n",
       "  }\n",
       "  table, th, td {\n",
       "    border: 1px solid black;\n",
       "    border-collapse: collapse;\n",
       "  }\n",
       "  th, td {\n",
       "    padding: 5px;\n",
       "  }\n",
       "  th {\n",
       "    text-align: left;\n",
       "  }\n",
       "</style><div class='table-result-container'><table class='table-result'><thead style='background-color: white'><tr><th>id</th><th>uid</th><th>plan</th><th>status</th><th>payment_method</th><th>subscription_term</th><th>payment_term</th><th>user_id</th><th>dt_current_timestamp</th></tr></thead><tbody><tr><td>7549</td><td>c51d4631-dbf3-422c-8b78-8fcdb2aa44e2</td><td>Platinum</td><td>Active</td><td>Cheque</td><td>Daily</td><td>Monthly</td><td>433</td><td>2022-08-15T17:33:36.500+0000</td></tr><tr><td>7275</td><td>79ff49f2-55c5-4fe6-92ea-c64bb96c6afd</td><td>Silver</td><td>Blocked</td><td>Apple Pay</td><td>Triennal</td><td>Full subscription</td><td>146</td><td>2022-08-15T17:33:36.500+0000</td></tr><tr><td>3802</td><td>7954062e-6581-4443-a5fb-bf63c2858bd7</td><td>Starter</td><td>Blocked</td><td>Alipay</td><td>Triennal</td><td>Payment in advance</td><td>719</td><td>2022-08-15T17:33:36.500+0000</td></tr><tr><td>7179</td><td>1c7aba55-475a-496a-a915-49ff84b41c99</td><td>Gold</td><td>Pending</td><td>Cheque</td><td>Triennal</td><td>Annual</td><td>241</td><td>2022-08-15T17:33:36.500+0000</td></tr><tr><td>266</td><td>c68a51e7-c4a6-4206-bded-fd5d6d3a9795</td><td>Silver</td><td>Idle</td><td>Bitcoins</td><td>Daily</td><td>Payment in advance</td><td>118</td><td>2022-08-15T17:33:36.500+0000</td></tr><tr><td>4273</td><td>a6c3bfe6-652f-4f32-9025-5c5603284bc6</td><td>Platinum</td><td>Active</td><td>WeChat Pay</td><td>Daily</td><td>Monthly</td><td>312</td><td>2022-08-15T17:33:36.500+0000</td></tr><tr><td>3320</td><td>95f6ce41-b552-4acf-9c9e-8598864d4737</td><td>Silver</td><td>Pending</td><td>WeChat Pay</td><td>Quinquennal</td><td>Full subscription</td><td>1600</td><td>2022-08-15T17:33:36.500+0000</td></tr><tr><td>400</td><td>c0460f39-217b-470b-87bd-97f962c2c618</td><td>Standard</td><td>Idle</td><td>Apple Pay</td><td>Daily</td><td>Annual</td><td>1594</td><td>2022-08-15T17:33:36.500+0000</td></tr><tr><td>9492</td><td>8592267d-bb65-418a-a1b4-98e9eba85d82</td><td>Gold</td><td>Idle</td><td>Debit card</td><td>Lifetime</td><td>Monthly</td><td>1736</td><td>2022-08-15T17:33:36.500+0000</td></tr><tr><td>3571</td><td>d8ae36d0-7430-4dc4-99c0-2e0bb1cb7ab3</td><td>Basic</td><td>Idle</td><td>Apple Pay</td><td>Quinquennal</td><td>Full subscription</td><td>1935</td><td>2022-08-15T17:33:36.500+0000</td></tr><tr><td>4442</td><td>40da40c6-5f48-4f73-8e1c-004623ec09c3</td><td>Silver</td><td>Active</td><td>Cash</td><td>Biennal</td><td>Payment in advance</td><td>1516</td><td>2022-08-15T17:33:36.500+0000</td></tr><tr><td>6126</td><td>2481c412-41c7-43a9-b05b-d1f10ab464d7</td><td>Professional</td><td>Idle</td><td>Alipay</td><td>Daily</td><td>Monthly</td><td>1341</td><td>2022-08-15T17:33:36.500+0000</td></tr><tr><td>3770</td><td>0ba31ae3-c7a2-404d-87f6-32f785795e90</td><td>Basic</td><td>Active</td><td>Alipay</td><td>Triennal</td><td>Annual</td><td>1074</td><td>2022-08-15T17:33:36.500+0000</td></tr><tr><td>3298</td><td>b55da4df-4bb7-4f52-a1ab-7bfaff7f0d15</td><td>Business</td><td>Idle</td><td>Debit card</td><td>Lifetime</td><td>Monthly</td><td>1638</td><td>2022-08-15T17:33:36.500+0000</td></tr><tr><td>544</td><td>76678135-a06f-4a54-967d-632f05471613</td><td>Diamond</td><td>Blocked</td><td>Cash</td><td>Annual</td><td>Annual</td><td>1194</td><td>2022-08-15T17:33:36.500+0000</td></tr><tr><td>6486</td><td>33e3a37c-39a1-43e3-83d1-8175f65c1300</td><td>Business</td><td>Blocked</td><td>Cheque</td><td>Quinquennal</td><td>Annual</td><td>1321</td><td>2022-08-15T17:33:36.500+0000</td></tr><tr><td>3535</td><td>113b0604-9373-4301-8a16-2dc27eb3e4d8</td><td>Free Trial</td><td>Blocked</td><td>Apple Pay</td><td>Triennal</td><td>Payment in advance</td><td>1476</td><td>2022-08-15T17:33:36.500+0000</td></tr><tr><td>8941</td><td>344a418a-d93e-46d3-8f40-2e5721cac1e9</td><td>Starter</td><td>Idle</td><td>Paypal</td><td>Monthly</td><td>Payment in advance</td><td>1984</td><td>2022-08-15T17:33:36.500+0000</td></tr><tr><td>5164</td><td>b3618522-8e01-48ae-8dcb-332b8ea6ac7c</td><td>Gold</td><td>Pending</td><td>Paypal</td><td>Lifetime</td><td>Annual</td><td>1551</td><td>2022-08-15T17:33:36.500+0000</td></tr><tr><td>1517</td><td>0015dc48-e3f6-451c-b19b-fa442519f09d</td><td>Diamond</td><td>Idle</td><td>Google Pay</td><td>Triennal</td><td>Annual</td><td>1219</td><td>2022-08-15T17:33:36.500+0000</td></tr><tr><td>5928</td><td>a39fa55c-d428-4ea2-9d64-ba6dd9261b71</td><td>Gold</td><td>Pending</td><td>Google Pay</td><td>Annual</td><td>Payment in advance</td><td>2050</td><td>2022-08-15T17:33:36.500+0000</td></tr><tr><td>7871</td><td>7a63bdc1-45ba-4c14-8d55-f5d5e719f68a</td><td>Premium</td><td>Idle</td><td>Visa checkout</td><td>Annual</td><td>Annual</td><td>2813</td><td>2022-08-15T17:33:36.500+0000</td></tr><tr><td>9503</td><td>5e783fdc-8dd2-4042-9599-a3b547421612</td><td>Business</td><td>Idle</td><td>Paypal</td><td>Annual</td><td>Annual</td><td>2416</td><td>2022-08-15T17:33:36.500+0000</td></tr><tr><td>9369</td><td>2c8b187c-8458-4c8a-94a6-00aa323f888c</td><td>Free Trial</td><td>Blocked</td><td>Bitcoins</td><td>Daily</td><td>Monthly</td><td>3019</td><td>2022-08-15T17:33:36.500+0000</td></tr><tr><td>961</td><td>8992219e-a58f-4a38-b937-81d893c01655</td><td>Silver</td><td>Active</td><td>Credit card</td><td>Biennal</td><td>Full subscription</td><td>2317</td><td>2022-08-15T17:33:36.500+0000</td></tr><tr><td>4377</td><td>0a493839-b727-48a7-afc3-f4bc567e056c</td><td>Platinum</td><td>Pending</td><td>Debit card</td><td>Lifetime</td><td>Annual</td><td>3027</td><td>2022-08-15T17:33:36.500+0000</td></tr><tr><td>5203</td><td>62cee4c0-e489-441a-9d5b-b40734ce9f9d</td><td>Business</td><td>Blocked</td><td>Paypal</td><td>Triennal</td><td>Full subscription</td><td>2142</td><td>2022-08-15T17:33:36.500+0000</td></tr><tr><td>3612</td><td>f6e0afc2-07fd-4c33-bf85-1e54db01cd1e</td><td>Free Trial</td><td>Blocked</td><td>Cash</td><td>Daily</td><td>Full subscription</td><td>2809</td><td>2022-08-15T17:33:36.500+0000</td></tr><tr><td>8638</td><td>2035f1f5-0bca-44c0-8bf2-282227aa953d</td><td>Essential</td><td>Blocked</td><td>Apple Pay</td><td>Weekly</td><td>Monthly</td><td>2551</td><td>2022-08-15T17:33:36.500+0000</td></tr><tr><td>3149</td><td>1deb7586-b809-4263-a04f-961a91638890</td><td>Starter</td><td>Blocked</td><td>Paypal</td><td>Annual</td><td>Monthly</td><td>2957</td><td>2022-08-15T17:33:36.500+0000</td></tr><tr><td>7104</td><td>cd052bb4-7067-43e8-89b1-bc64740a7b88</td><td>Free Trial</td><td>Blocked</td><td>Cheque</td><td>Monthly</td><td>Annual</td><td>2421</td><td>2022-08-15T17:33:36.500+0000</td></tr><tr><td>7380</td><td>28475c5e-7f8b-4096-8efc-0895ac59bf8c</td><td>Standard</td><td>Active</td><td>WeChat Pay</td><td>Monthly</td><td>Payment in advance</td><td>2214</td><td>2022-08-15T17:33:36.500+0000</td></tr><tr><td>5927</td><td>425441e8-0807-4559-9ae5-34db10b7f242</td><td>Business</td><td>Idle</td><td>Alipay</td><td>Weekly</td><td>Monthly</td><td>2781</td><td>2022-08-15T17:33:36.500+0000</td></tr><tr><td>3793</td><td>3df7f719-3087-4cac-ab0d-7b073029fea6</td><td>Free Trial</td><td>Active</td><td>Alipay</td><td>Triennal</td><td>Full subscription</td><td>2313</td><td>2022-08-15T17:33:36.500+0000</td></tr><tr><td>1660</td><td>8346132b-dd53-451a-98c4-b85ddac9b0d1</td><td>Professional</td><td>Active</td><td>Google Pay</td><td>Annual</td><td>Full subscription</td><td>2194</td><td>2022-08-15T17:33:36.500+0000</td></tr><tr><td>9766</td><td>a9a39b8d-bb61-41ce-ad62-e9346aa60262</td><td>Professional</td><td>Active</td><td>WeChat Pay</td><td>Annual</td><td>Payment in advance</td><td>2893</td><td>2022-08-15T17:33:36.500+0000</td></tr><tr><td>9201</td><td>75540bcc-43fe-40e8-9624-3645d0b5c945</td><td>Premium</td><td>Blocked</td><td>Bitcoins</td><td>Annual</td><td>Payment in advance</td><td>2068</td><td>2022-08-15T17:33:36.500+0000</td></tr><tr><td>2269</td><td>4ce0f080-8279-49ad-88ab-ced4111a0309</td><td>Diamond</td><td>Pending</td><td>Apple Pay</td><td>Annual</td><td>Full subscription</td><td>3173</td><td>2022-08-15T17:33:36.500+0000</td></tr><tr><td>3413</td><td>c6e2a510-57e9-4038-b0d1-401941e336e9</td><td>Basic</td><td>Blocked</td><td>Bitcoins</td><td>Lifetime</td><td>Payment in advance</td><td>3199</td><td>2022-08-15T17:33:36.500+0000</td></tr><tr><td>9791</td><td>18d85d9b-b490-40ba-8d65-b11a7a85b520</td><td>Diamond</td><td>Active</td><td>Visa checkout</td><td>Quinquennal</td><td>Annual</td><td>3996</td><td>2022-08-15T17:33:36.500+0000</td></tr><tr><td>122</td><td>029e58b8-4ff0-48f5-acae-7a0ec7d9aa65</td><td>Free Trial</td><td>Pending</td><td>WeChat Pay</td><td>Weekly</td><td>Full subscription</td><td>3632</td><td>2022-08-15T17:33:36.500+0000</td></tr><tr><td>5019</td><td>3f320a09-e5e5-4fe9-bd41-4c78a86a4bfd</td><td>Standard</td><td>Blocked</td><td>Alipay</td><td>Weekly</td><td>Payment in advance</td><td>3065</td><td>2022-08-15T17:33:36.500+0000</td></tr><tr><td>7906</td><td>e09cc4ee-8e3b-4d2e-8170-a28d66eb6277</td><td>Student</td><td>Pending</td><td>Google Pay</td><td>Monthly</td><td>Payment in advance</td><td>3694</td><td>2022-08-15T17:33:36.500+0000</td></tr><tr><td>8759</td><td>e72473cc-2754-4cac-936d-a81f1033da34</td><td>Student</td><td>Pending</td><td>Visa checkout</td><td>Quinquennal</td><td>Full subscription</td><td>3862</td><td>2022-08-15T17:33:36.500+0000</td></tr><tr><td>1475</td><td>3818520f-07ea-482b-bfdd-5cb7f37a6bd2</td><td>Starter</td><td>Idle</td><td>Money transfer</td><td>Biennal</td><td>Monthly</td><td>3945</td><td>2022-08-15T17:33:36.500+0000</td></tr><tr><td>3510</td><td>dc87229c-545a-49ab-9a94-db4d32a19e8f</td><td>Silver</td><td>Idle</td><td>WeChat Pay</td><td>Weekly</td><td>Annual</td><td>3774</td><td>2022-08-15T17:33:36.500+0000</td></tr><tr><td>980</td><td>825dbc93-8652-4b1d-8948-c8ea8e12ced8</td><td>Silver</td><td>Blocked</td><td>Cheque</td><td>Daily</td><td>Annual</td><td>4445</td><td>2022-08-15T17:33:36.500+0000</td></tr><tr><td>1831</td><td>d4b877b0-b4c4-4f9f-ae86-86bd65ffa584</td><td>Silver</td><td>Pending</td><td>WeChat Pay</td><td>Triennal</td><td>Annual</td><td>4608</td><td>2022-08-15T17:33:36.500+0000</td></tr><tr><td>2185</td><td>addd3caa-13c5-4553-a61c-8a297d4ca1e8</td><td>Gold</td><td>Idle</td><td>Money transfer</td><td>Monthly</td><td>Annual</td><td>5020</td><td>2022-08-15T17:33:36.500+0000</td></tr><tr><td>6460</td><td>e781b092-ac57-416e-9af8-644147481a88</td><td>Basic</td><td>Blocked</td><td>Paypal</td><td>Quinquennal</td><td>Annual</td><td>4965</td><td>2022-08-15T17:33:36.500+0000</td></tr><tr><td>1490</td><td>bc86ed81-173c-481a-9bd9-d95b31543d78</td><td>Student</td><td>Idle</td><td>Credit card</td><td>Quinquennal</td><td>Full subscription</td><td>5572</td><td>2022-08-15T17:33:36.500+0000</td></tr><tr><td>9194</td><td>39a2a01e-2a2e-48fb-be3c-1eea8859849e</td><td>Diamond</td><td>Pending</td><td>Apple Pay</td><td>Triennal</td><td>Full subscription</td><td>5133</td><td>2022-08-15T17:33:36.500+0000</td></tr><tr><td>4719</td><td>48f9d7a7-18ea-4640-81f4-0eb1d923aead</td><td>Basic</td><td>Pending</td><td>WeChat Pay</td><td>Quinquennal</td><td>Annual</td><td>5340</td><td>2022-08-15T17:33:36.500+0000</td></tr><tr><td>7711</td><td>1cf06a0d-fa32-40b5-899a-f36003a5884e</td><td>Basic</td><td>Pending</td><td>Paypal</td><td>Daily</td><td>Annual</td><td>5498</td><td>2022-08-15T17:33:36.500+0000</td></tr><tr><td>7555</td><td>aea76df2-8675-4651-a849-5e7161295a58</td><td>Standard</td><td>Idle</td><td>Cheque</td><td>Biennal</td><td>Payment in advance</td><td>5319</td><td>2022-08-15T17:33:36.500+0000</td></tr><tr><td>2283</td><td>bfc8885b-84cb-4b00-91ed-855b7118e785</td><td>Silver</td><td>Blocked</td><td>Bitcoins</td><td>Triennal</td><td>Payment in advance</td><td>5730</td><td>2022-08-15T17:33:36.500+0000</td></tr><tr><td>8294</td><td>5922f1bb-c7b7-4642-8c1d-9defc9aee31e</td><td>Professional</td><td>Pending</td><td>Visa checkout</td><td>Daily</td><td>Annual</td><td>5656</td><td>2022-08-15T17:33:36.500+0000</td></tr><tr><td>9040</td><td>7e71a40a-d4e4-4376-b7ad-d1364199b79a</td><td>Silver</td><td>Pending</td><td>Debit card</td><td>Weekly</td><td>Full subscription</td><td>5844</td><td>2022-08-15T17:33:36.500+0000</td></tr><tr><td>3868</td><td>67b39bc8-84e9-4232-ad37-200e9864c1a4</td><td>Platinum</td><td>Blocked</td><td>Cash</td><td>Quinquennal</td><td>Payment in advance</td><td>5756</td><td>2022-08-15T17:33:36.500+0000</td></tr><tr><td>741</td><td>1ce1bfb4-3b35-426d-a01d-73c71026acc8</td><td>Premium</td><td>Idle</td><td>Apple Pay</td><td>Quinquennal</td><td>Full subscription</td><td>7037</td><td>2022-08-15T17:33:36.500+0000</td></tr><tr><td>7112</td><td>b8bd043e-3314-4588-ac00-9eae272d3ba0</td><td>Premium</td><td>Pending</td><td>Cash</td><td>Quinquennal</td><td>Payment in advance</td><td>6360</td><td>2022-08-15T17:33:36.500+0000</td></tr><tr><td>1381</td><td>3277f148-ece4-42fa-977c-7ce758470cf4</td><td>Free Trial</td><td>Idle</td><td>Debit card</td><td>Daily</td><td>Payment in advance</td><td>6830</td><td>2022-08-15T17:33:36.500+0000</td></tr><tr><td>985</td><td>b6b087e9-4d58-40df-abe8-6b5e3d9305cf</td><td>Essential</td><td>Blocked</td><td>Visa checkout</td><td>Daily</td><td>Monthly</td><td>6133</td><td>2022-08-15T17:33:36.500+0000</td></tr><tr><td>1544</td><td>0ceefa6f-4f0d-4350-8256-b12609191f71</td><td>Gold</td><td>Pending</td><td>Apple Pay</td><td>Quinquennal</td><td>Full subscription</td><td>6608</td><td>2022-08-15T17:33:36.500+0000</td></tr><tr><td>2010</td><td>f139f85a-6675-4964-b7d9-672960a86bcf</td><td>Professional</td><td>Active</td><td>WeChat Pay</td><td>Daily</td><td>Payment in advance</td><td>6418</td><td>2022-08-15T17:33:36.500+0000</td></tr><tr><td>3711</td><td>6f0baec6-c489-4a89-86a7-8681139c8e0e</td><td>Free Trial</td><td>Blocked</td><td>Debit card</td><td>Biennal</td><td>Monthly</td><td>6605</td><td>2022-08-15T17:33:36.500+0000</td></tr><tr><td>6056</td><td>6aebbabd-b711-42f0-8573-fd4c9d69fdbd</td><td>Standard</td><td>Blocked</td><td>Google Pay</td><td>Monthly</td><td>Full subscription</td><td>6402</td><td>2022-08-15T17:33:36.500+0000</td></tr><tr><td>9211</td><td>dbba97e0-6c83-461d-86e0-01bb4397334a</td><td>Essential</td><td>Pending</td><td>Money transfer</td><td>Monthly</td><td>Annual</td><td>6740</td><td>2022-08-15T17:33:36.500+0000</td></tr><tr><td>1116</td><td>a4320a27-4e4d-4f3f-89ed-ac8209668488</td><td>Essential</td><td>Blocked</td><td>Cash</td><td>Triennal</td><td>Full subscription</td><td>6754</td><td>2022-08-15T17:33:36.500+0000</td></tr><tr><td>1971</td><td>e1a8cd7e-4d57-4c6a-b0f2-5a2cce9de14d</td><td>Free Trial</td><td>Blocked</td><td>Credit card</td><td>Biennal</td><td>Monthly</td><td>6540</td><td>2022-08-15T17:33:36.500+0000</td></tr><tr><td>8471</td><td>719eaa6e-4642-479e-92f3-df930ff577c1</td><td>Business</td><td>Blocked</td><td>Alipay</td><td>Monthly</td><td>Payment in advance</td><td>7064</td><td>2022-08-15T17:33:36.500+0000</td></tr><tr><td>9553</td><td>62b76e83-dd96-496b-9a76-af6472603d00</td><td>Free Trial</td><td>Blocked</td><td>WeChat Pay</td><td>Lifetime</td><td>Payment in advance</td><td>7432</td><td>2022-08-15T17:33:36.500+0000</td></tr><tr><td>1360</td><td>86adff23-ecb4-4f11-a814-c0b87dba1f1a</td><td>Starter</td><td>Pending</td><td>Apple Pay</td><td>Lifetime</td><td>Payment in advance</td><td>7532</td><td>2022-08-15T17:33:36.500+0000</td></tr><tr><td>4856</td><td>07bf2c2e-6a25-49ad-9bc3-89d6166b906d</td><td>Silver</td><td>Idle</td><td>Paypal</td><td>Quinquennal</td><td>Annual</td><td>7508</td><td>2022-08-15T17:33:36.500+0000</td></tr><tr><td>2965</td><td>aa19c6df-cefb-4d71-9101-2250e0410653</td><td>Silver</td><td>Pending</td><td>Paypal</td><td>Weekly</td><td>Annual</td><td>8019</td><td>2022-08-15T17:33:36.500+0000</td></tr><tr><td>3452</td><td>102f0322-04ec-4c6f-a36c-d713ec1fef75</td><td>Bronze</td><td>Blocked</td><td>Alipay</td><td>Lifetime</td><td>Annual</td><td>7478</td><td>2022-08-15T17:33:36.500+0000</td></tr><tr><td>7947</td><td>a7b8bd73-92bc-472f-84a1-59073b6fa782</td><td>Gold</td><td>Pending</td><td>Money transfer</td><td>Annual</td><td>Monthly</td><td>7987</td><td>2022-08-15T17:33:36.500+0000</td></tr><tr><td>4110</td><td>4b63df18-8083-4b01-895e-9c53612756b8</td><td>Professional</td><td>Idle</td><td>WeChat Pay</td><td>Weekly</td><td>Monthly</td><td>7433</td><td>2022-08-15T17:33:36.500+0000</td></tr><tr><td>9544</td><td>51a44849-1888-4806-99c1-8f2bd8188753</td><td>Silver</td><td>Blocked</td><td>Google Pay</td><td>Biennal</td><td>Annual</td><td>7232</td><td>2022-08-15T17:33:36.500+0000</td></tr><tr><td>4108</td><td>1a3600a1-b892-4dab-a038-e6f863724043</td><td>Premium</td><td>Pending</td><td>Debit card</td><td>Monthly</td><td>Full subscription</td><td>7297</td><td>2022-08-15T17:33:36.500+0000</td></tr><tr><td>1360</td><td>a5709d42-f1f8-46cc-b297-cd0f60642278</td><td>Business</td><td>Blocked</td><td>Cheque</td><td>Daily</td><td>Payment in advance</td><td>7560</td><td>2022-08-15T17:33:36.500+0000</td></tr><tr><td>6415</td><td>e18048b8-6290-436c-a2e6-8711c2f8bd65</td><td>Premium</td><td>Idle</td><td>Cash</td><td>Quinquennal</td><td>Annual</td><td>8839</td><td>2022-08-15T17:33:36.500+0000</td></tr><tr><td>8062</td><td>fc78957b-3827-4177-bbc1-e7871594d965</td><td>Basic</td><td>Pending</td><td>Alipay</td><td>Biennal</td><td>Full subscription</td><td>8733</td><td>2022-08-15T17:33:36.500+0000</td></tr><tr><td>7019</td><td>4e744df4-543b-4ffe-b2fd-0164192a05b6</td><td>Free Trial</td><td>Blocked</td><td>Bitcoins</td><td>Monthly</td><td>Monthly</td><td>8607</td><td>2022-08-15T17:33:36.500+0000</td></tr><tr><td>244</td><td>a2d7b62e-01ca-4d30-a5c7-183f4f108037</td><td>Standard</td><td>Idle</td><td>Google Pay</td><td>Lifetime</td><td>Payment in advance</td><td>8832</td><td>2022-08-15T17:33:36.500+0000</td></tr><tr><td>5335</td><td>06ae7d57-a5b0-49f3-ab7b-89b10bb6c937</td><td>Free Trial</td><td>Blocked</td><td>Bitcoins</td><td>Daily</td><td>Monthly</td><td>8707</td><td>2022-08-15T17:33:36.500+0000</td></tr><tr><td>8426</td><td>a2a18ebb-8cf9-40f1-89e9-6494a7e0b56f</td><td>Student</td><td>Pending</td><td>WeChat Pay</td><td>Annual</td><td>Full subscription</td><td>8597</td><td>2022-08-15T17:33:36.500+0000</td></tr><tr><td>3545</td><td>7df13b94-c308-48f4-81a8-9b9ef47da0a4</td><td>Gold</td><td>Pending</td><td>Cash</td><td>Lifetime</td><td>Monthly</td><td>8891</td><td>2022-08-15T17:33:36.500+0000</td></tr><tr><td>7922</td><td>d2eb5f0e-563a-4071-ae2c-a4a4f024c586</td><td>Business</td><td>Active</td><td>WeChat Pay</td><td>Quinquennal</td><td>Monthly</td><td>8715</td><td>2022-08-15T17:33:36.500+0000</td></tr><tr><td>8064</td><td>1a4ae45e-7ed4-4850-8f14-1fc312bf1a4f</td><td>Essential</td><td>Idle</td><td>Credit card</td><td>Weekly</td><td>Full subscription</td><td>8880</td><td>2022-08-15T17:33:36.500+0000</td></tr><tr><td>5427</td><td>5aaf2d13-eabb-467c-90e4-57e582205fb1</td><td>Basic</td><td>Active</td><td>Visa checkout</td><td>Monthly</td><td>Annual</td><td>8567</td><td>2022-08-15T17:33:36.500+0000</td></tr><tr><td>3671</td><td>8170ebea-b3cc-4964-844f-0cf67257379a</td><td>Premium</td><td>Active</td><td>WeChat Pay</td><td>Annual</td><td>Monthly</td><td>8306</td><td>2022-08-15T17:33:36.500+0000</td></tr><tr><td>1305</td><td>34a0c79f-739b-4a7a-a8cb-30690b562566</td><td>Student</td><td>Idle</td><td>Cheque</td><td>Monthly</td><td>Monthly</td><td>8139</td><td>2022-08-15T17:33:36.500+0000</td></tr><tr><td>9328</td><td>e584b50c-9ac6-4c84-9464-a138aa45920e</td><td>Platinum</td><td>Idle</td><td>Bitcoins</td><td>Quinquennal</td><td>Annual</td><td>8727</td><td>2022-08-15T17:33:36.500+0000</td></tr><tr><td>9661</td><td>5b994ae0-5edc-4a62-adf9-001092419b91</td><td>Starter</td><td>Pending</td><td>Paypal</td><td>Daily</td><td>Payment in advance</td><td>9458</td><td>2022-08-15T17:33:36.500+0000</td></tr><tr><td>89</td><td>ef129d78-d541-4512-b202-bca154668cf0</td><td>Gold</td><td>Blocked</td><td>Alipay</td><td>Weekly</td><td>Monthly</td><td>9488</td><td>2022-08-15T17:33:36.500+0000</td></tr><tr><td>1850</td><td>04d41503-4ae6-4013-9184-d7cbfb05961f</td><td>Essential</td><td>Idle</td><td>Credit card</td><td>Weekly</td><td>Monthly</td><td>9759</td><td>2022-08-15T17:33:36.500+0000</td></tr><tr><td>4413</td><td>a46de0a0-19e0-4ad5-8fbd-73b86cd8f153</td><td>Professional</td><td>Idle</td><td>Alipay</td><td>Lifetime</td><td>Payment in advance</td><td>9855</td><td>2022-08-15T17:33:36.500+0000</td></tr><tr><td>617</td><td>74e50c91-f04b-4449-a36d-1150c743fc10</td><td>Premium</td><td>Active</td><td>Money transfer</td><td>Lifetime</td><td>Full subscription</td><td>9973</td><td>2022-08-15T17:33:36.500+0000</td></tr><tr><td>3322</td><td>2ba3b288-184c-43a5-a413-c6b35ec2d5ff</td><td>Platinum</td><td>Blocked</td><td>Paypal</td><td>Triennal</td><td>Monthly</td><td>9875</td><td>2022-08-15T17:33:36.500+0000</td></tr></tbody></table></div>"
      ]
     },
     "metadata": {
      "application/vnd.databricks.v1+output": {
       "addedWidgets": {},
       "aggData": [],
       "aggError": "",
       "aggOverflow": false,
       "aggSchema": [],
       "aggSeriesLimitReached": false,
       "aggType": "",
       "arguments": {},
       "columnCustomDisplayInfos": {},
       "data": [
        [
         7549,
         "c51d4631-dbf3-422c-8b78-8fcdb2aa44e2",
         "Platinum",
         "Active",
         "Cheque",
         "Daily",
         "Monthly",
         433,
         "2022-08-15T17:33:36.500+0000"
        ],
        [
         7275,
         "79ff49f2-55c5-4fe6-92ea-c64bb96c6afd",
         "Silver",
         "Blocked",
         "Apple Pay",
         "Triennal",
         "Full subscription",
         146,
         "2022-08-15T17:33:36.500+0000"
        ],
        [
         3802,
         "7954062e-6581-4443-a5fb-bf63c2858bd7",
         "Starter",
         "Blocked",
         "Alipay",
         "Triennal",
         "Payment in advance",
         719,
         "2022-08-15T17:33:36.500+0000"
        ],
        [
         7179,
         "1c7aba55-475a-496a-a915-49ff84b41c99",
         "Gold",
         "Pending",
         "Cheque",
         "Triennal",
         "Annual",
         241,
         "2022-08-15T17:33:36.500+0000"
        ],
        [
         266,
         "c68a51e7-c4a6-4206-bded-fd5d6d3a9795",
         "Silver",
         "Idle",
         "Bitcoins",
         "Daily",
         "Payment in advance",
         118,
         "2022-08-15T17:33:36.500+0000"
        ],
        [
         4273,
         "a6c3bfe6-652f-4f32-9025-5c5603284bc6",
         "Platinum",
         "Active",
         "WeChat Pay",
         "Daily",
         "Monthly",
         312,
         "2022-08-15T17:33:36.500+0000"
        ],
        [
         3320,
         "95f6ce41-b552-4acf-9c9e-8598864d4737",
         "Silver",
         "Pending",
         "WeChat Pay",
         "Quinquennal",
         "Full subscription",
         1600,
         "2022-08-15T17:33:36.500+0000"
        ],
        [
         400,
         "c0460f39-217b-470b-87bd-97f962c2c618",
         "Standard",
         "Idle",
         "Apple Pay",
         "Daily",
         "Annual",
         1594,
         "2022-08-15T17:33:36.500+0000"
        ],
        [
         9492,
         "8592267d-bb65-418a-a1b4-98e9eba85d82",
         "Gold",
         "Idle",
         "Debit card",
         "Lifetime",
         "Monthly",
         1736,
         "2022-08-15T17:33:36.500+0000"
        ],
        [
         3571,
         "d8ae36d0-7430-4dc4-99c0-2e0bb1cb7ab3",
         "Basic",
         "Idle",
         "Apple Pay",
         "Quinquennal",
         "Full subscription",
         1935,
         "2022-08-15T17:33:36.500+0000"
        ],
        [
         4442,
         "40da40c6-5f48-4f73-8e1c-004623ec09c3",
         "Silver",
         "Active",
         "Cash",
         "Biennal",
         "Payment in advance",
         1516,
         "2022-08-15T17:33:36.500+0000"
        ],
        [
         6126,
         "2481c412-41c7-43a9-b05b-d1f10ab464d7",
         "Professional",
         "Idle",
         "Alipay",
         "Daily",
         "Monthly",
         1341,
         "2022-08-15T17:33:36.500+0000"
        ],
        [
         3770,
         "0ba31ae3-c7a2-404d-87f6-32f785795e90",
         "Basic",
         "Active",
         "Alipay",
         "Triennal",
         "Annual",
         1074,
         "2022-08-15T17:33:36.500+0000"
        ],
        [
         3298,
         "b55da4df-4bb7-4f52-a1ab-7bfaff7f0d15",
         "Business",
         "Idle",
         "Debit card",
         "Lifetime",
         "Monthly",
         1638,
         "2022-08-15T17:33:36.500+0000"
        ],
        [
         544,
         "76678135-a06f-4a54-967d-632f05471613",
         "Diamond",
         "Blocked",
         "Cash",
         "Annual",
         "Annual",
         1194,
         "2022-08-15T17:33:36.500+0000"
        ],
        [
         6486,
         "33e3a37c-39a1-43e3-83d1-8175f65c1300",
         "Business",
         "Blocked",
         "Cheque",
         "Quinquennal",
         "Annual",
         1321,
         "2022-08-15T17:33:36.500+0000"
        ],
        [
         3535,
         "113b0604-9373-4301-8a16-2dc27eb3e4d8",
         "Free Trial",
         "Blocked",
         "Apple Pay",
         "Triennal",
         "Payment in advance",
         1476,
         "2022-08-15T17:33:36.500+0000"
        ],
        [
         8941,
         "344a418a-d93e-46d3-8f40-2e5721cac1e9",
         "Starter",
         "Idle",
         "Paypal",
         "Monthly",
         "Payment in advance",
         1984,
         "2022-08-15T17:33:36.500+0000"
        ],
        [
         5164,
         "b3618522-8e01-48ae-8dcb-332b8ea6ac7c",
         "Gold",
         "Pending",
         "Paypal",
         "Lifetime",
         "Annual",
         1551,
         "2022-08-15T17:33:36.500+0000"
        ],
        [
         1517,
         "0015dc48-e3f6-451c-b19b-fa442519f09d",
         "Diamond",
         "Idle",
         "Google Pay",
         "Triennal",
         "Annual",
         1219,
         "2022-08-15T17:33:36.500+0000"
        ],
        [
         5928,
         "a39fa55c-d428-4ea2-9d64-ba6dd9261b71",
         "Gold",
         "Pending",
         "Google Pay",
         "Annual",
         "Payment in advance",
         2050,
         "2022-08-15T17:33:36.500+0000"
        ],
        [
         7871,
         "7a63bdc1-45ba-4c14-8d55-f5d5e719f68a",
         "Premium",
         "Idle",
         "Visa checkout",
         "Annual",
         "Annual",
         2813,
         "2022-08-15T17:33:36.500+0000"
        ],
        [
         9503,
         "5e783fdc-8dd2-4042-9599-a3b547421612",
         "Business",
         "Idle",
         "Paypal",
         "Annual",
         "Annual",
         2416,
         "2022-08-15T17:33:36.500+0000"
        ],
        [
         9369,
         "2c8b187c-8458-4c8a-94a6-00aa323f888c",
         "Free Trial",
         "Blocked",
         "Bitcoins",
         "Daily",
         "Monthly",
         3019,
         "2022-08-15T17:33:36.500+0000"
        ],
        [
         961,
         "8992219e-a58f-4a38-b937-81d893c01655",
         "Silver",
         "Active",
         "Credit card",
         "Biennal",
         "Full subscription",
         2317,
         "2022-08-15T17:33:36.500+0000"
        ],
        [
         4377,
         "0a493839-b727-48a7-afc3-f4bc567e056c",
         "Platinum",
         "Pending",
         "Debit card",
         "Lifetime",
         "Annual",
         3027,
         "2022-08-15T17:33:36.500+0000"
        ],
        [
         5203,
         "62cee4c0-e489-441a-9d5b-b40734ce9f9d",
         "Business",
         "Blocked",
         "Paypal",
         "Triennal",
         "Full subscription",
         2142,
         "2022-08-15T17:33:36.500+0000"
        ],
        [
         3612,
         "f6e0afc2-07fd-4c33-bf85-1e54db01cd1e",
         "Free Trial",
         "Blocked",
         "Cash",
         "Daily",
         "Full subscription",
         2809,
         "2022-08-15T17:33:36.500+0000"
        ],
        [
         8638,
         "2035f1f5-0bca-44c0-8bf2-282227aa953d",
         "Essential",
         "Blocked",
         "Apple Pay",
         "Weekly",
         "Monthly",
         2551,
         "2022-08-15T17:33:36.500+0000"
        ],
        [
         3149,
         "1deb7586-b809-4263-a04f-961a91638890",
         "Starter",
         "Blocked",
         "Paypal",
         "Annual",
         "Monthly",
         2957,
         "2022-08-15T17:33:36.500+0000"
        ],
        [
         7104,
         "cd052bb4-7067-43e8-89b1-bc64740a7b88",
         "Free Trial",
         "Blocked",
         "Cheque",
         "Monthly",
         "Annual",
         2421,
         "2022-08-15T17:33:36.500+0000"
        ],
        [
         7380,
         "28475c5e-7f8b-4096-8efc-0895ac59bf8c",
         "Standard",
         "Active",
         "WeChat Pay",
         "Monthly",
         "Payment in advance",
         2214,
         "2022-08-15T17:33:36.500+0000"
        ],
        [
         5927,
         "425441e8-0807-4559-9ae5-34db10b7f242",
         "Business",
         "Idle",
         "Alipay",
         "Weekly",
         "Monthly",
         2781,
         "2022-08-15T17:33:36.500+0000"
        ],
        [
         3793,
         "3df7f719-3087-4cac-ab0d-7b073029fea6",
         "Free Trial",
         "Active",
         "Alipay",
         "Triennal",
         "Full subscription",
         2313,
         "2022-08-15T17:33:36.500+0000"
        ],
        [
         1660,
         "8346132b-dd53-451a-98c4-b85ddac9b0d1",
         "Professional",
         "Active",
         "Google Pay",
         "Annual",
         "Full subscription",
         2194,
         "2022-08-15T17:33:36.500+0000"
        ],
        [
         9766,
         "a9a39b8d-bb61-41ce-ad62-e9346aa60262",
         "Professional",
         "Active",
         "WeChat Pay",
         "Annual",
         "Payment in advance",
         2893,
         "2022-08-15T17:33:36.500+0000"
        ],
        [
         9201,
         "75540bcc-43fe-40e8-9624-3645d0b5c945",
         "Premium",
         "Blocked",
         "Bitcoins",
         "Annual",
         "Payment in advance",
         2068,
         "2022-08-15T17:33:36.500+0000"
        ],
        [
         2269,
         "4ce0f080-8279-49ad-88ab-ced4111a0309",
         "Diamond",
         "Pending",
         "Apple Pay",
         "Annual",
         "Full subscription",
         3173,
         "2022-08-15T17:33:36.500+0000"
        ],
        [
         3413,
         "c6e2a510-57e9-4038-b0d1-401941e336e9",
         "Basic",
         "Blocked",
         "Bitcoins",
         "Lifetime",
         "Payment in advance",
         3199,
         "2022-08-15T17:33:36.500+0000"
        ],
        [
         9791,
         "18d85d9b-b490-40ba-8d65-b11a7a85b520",
         "Diamond",
         "Active",
         "Visa checkout",
         "Quinquennal",
         "Annual",
         3996,
         "2022-08-15T17:33:36.500+0000"
        ],
        [
         122,
         "029e58b8-4ff0-48f5-acae-7a0ec7d9aa65",
         "Free Trial",
         "Pending",
         "WeChat Pay",
         "Weekly",
         "Full subscription",
         3632,
         "2022-08-15T17:33:36.500+0000"
        ],
        [
         5019,
         "3f320a09-e5e5-4fe9-bd41-4c78a86a4bfd",
         "Standard",
         "Blocked",
         "Alipay",
         "Weekly",
         "Payment in advance",
         3065,
         "2022-08-15T17:33:36.500+0000"
        ],
        [
         7906,
         "e09cc4ee-8e3b-4d2e-8170-a28d66eb6277",
         "Student",
         "Pending",
         "Google Pay",
         "Monthly",
         "Payment in advance",
         3694,
         "2022-08-15T17:33:36.500+0000"
        ],
        [
         8759,
         "e72473cc-2754-4cac-936d-a81f1033da34",
         "Student",
         "Pending",
         "Visa checkout",
         "Quinquennal",
         "Full subscription",
         3862,
         "2022-08-15T17:33:36.500+0000"
        ],
        [
         1475,
         "3818520f-07ea-482b-bfdd-5cb7f37a6bd2",
         "Starter",
         "Idle",
         "Money transfer",
         "Biennal",
         "Monthly",
         3945,
         "2022-08-15T17:33:36.500+0000"
        ],
        [
         3510,
         "dc87229c-545a-49ab-9a94-db4d32a19e8f",
         "Silver",
         "Idle",
         "WeChat Pay",
         "Weekly",
         "Annual",
         3774,
         "2022-08-15T17:33:36.500+0000"
        ],
        [
         980,
         "825dbc93-8652-4b1d-8948-c8ea8e12ced8",
         "Silver",
         "Blocked",
         "Cheque",
         "Daily",
         "Annual",
         4445,
         "2022-08-15T17:33:36.500+0000"
        ],
        [
         1831,
         "d4b877b0-b4c4-4f9f-ae86-86bd65ffa584",
         "Silver",
         "Pending",
         "WeChat Pay",
         "Triennal",
         "Annual",
         4608,
         "2022-08-15T17:33:36.500+0000"
        ],
        [
         2185,
         "addd3caa-13c5-4553-a61c-8a297d4ca1e8",
         "Gold",
         "Idle",
         "Money transfer",
         "Monthly",
         "Annual",
         5020,
         "2022-08-15T17:33:36.500+0000"
        ],
        [
         6460,
         "e781b092-ac57-416e-9af8-644147481a88",
         "Basic",
         "Blocked",
         "Paypal",
         "Quinquennal",
         "Annual",
         4965,
         "2022-08-15T17:33:36.500+0000"
        ],
        [
         1490,
         "bc86ed81-173c-481a-9bd9-d95b31543d78",
         "Student",
         "Idle",
         "Credit card",
         "Quinquennal",
         "Full subscription",
         5572,
         "2022-08-15T17:33:36.500+0000"
        ],
        [
         9194,
         "39a2a01e-2a2e-48fb-be3c-1eea8859849e",
         "Diamond",
         "Pending",
         "Apple Pay",
         "Triennal",
         "Full subscription",
         5133,
         "2022-08-15T17:33:36.500+0000"
        ],
        [
         4719,
         "48f9d7a7-18ea-4640-81f4-0eb1d923aead",
         "Basic",
         "Pending",
         "WeChat Pay",
         "Quinquennal",
         "Annual",
         5340,
         "2022-08-15T17:33:36.500+0000"
        ],
        [
         7711,
         "1cf06a0d-fa32-40b5-899a-f36003a5884e",
         "Basic",
         "Pending",
         "Paypal",
         "Daily",
         "Annual",
         5498,
         "2022-08-15T17:33:36.500+0000"
        ],
        [
         7555,
         "aea76df2-8675-4651-a849-5e7161295a58",
         "Standard",
         "Idle",
         "Cheque",
         "Biennal",
         "Payment in advance",
         5319,
         "2022-08-15T17:33:36.500+0000"
        ],
        [
         2283,
         "bfc8885b-84cb-4b00-91ed-855b7118e785",
         "Silver",
         "Blocked",
         "Bitcoins",
         "Triennal",
         "Payment in advance",
         5730,
         "2022-08-15T17:33:36.500+0000"
        ],
        [
         8294,
         "5922f1bb-c7b7-4642-8c1d-9defc9aee31e",
         "Professional",
         "Pending",
         "Visa checkout",
         "Daily",
         "Annual",
         5656,
         "2022-08-15T17:33:36.500+0000"
        ],
        [
         9040,
         "7e71a40a-d4e4-4376-b7ad-d1364199b79a",
         "Silver",
         "Pending",
         "Debit card",
         "Weekly",
         "Full subscription",
         5844,
         "2022-08-15T17:33:36.500+0000"
        ],
        [
         3868,
         "67b39bc8-84e9-4232-ad37-200e9864c1a4",
         "Platinum",
         "Blocked",
         "Cash",
         "Quinquennal",
         "Payment in advance",
         5756,
         "2022-08-15T17:33:36.500+0000"
        ],
        [
         741,
         "1ce1bfb4-3b35-426d-a01d-73c71026acc8",
         "Premium",
         "Idle",
         "Apple Pay",
         "Quinquennal",
         "Full subscription",
         7037,
         "2022-08-15T17:33:36.500+0000"
        ],
        [
         7112,
         "b8bd043e-3314-4588-ac00-9eae272d3ba0",
         "Premium",
         "Pending",
         "Cash",
         "Quinquennal",
         "Payment in advance",
         6360,
         "2022-08-15T17:33:36.500+0000"
        ],
        [
         1381,
         "3277f148-ece4-42fa-977c-7ce758470cf4",
         "Free Trial",
         "Idle",
         "Debit card",
         "Daily",
         "Payment in advance",
         6830,
         "2022-08-15T17:33:36.500+0000"
        ],
        [
         985,
         "b6b087e9-4d58-40df-abe8-6b5e3d9305cf",
         "Essential",
         "Blocked",
         "Visa checkout",
         "Daily",
         "Monthly",
         6133,
         "2022-08-15T17:33:36.500+0000"
        ],
        [
         1544,
         "0ceefa6f-4f0d-4350-8256-b12609191f71",
         "Gold",
         "Pending",
         "Apple Pay",
         "Quinquennal",
         "Full subscription",
         6608,
         "2022-08-15T17:33:36.500+0000"
        ],
        [
         2010,
         "f139f85a-6675-4964-b7d9-672960a86bcf",
         "Professional",
         "Active",
         "WeChat Pay",
         "Daily",
         "Payment in advance",
         6418,
         "2022-08-15T17:33:36.500+0000"
        ],
        [
         3711,
         "6f0baec6-c489-4a89-86a7-8681139c8e0e",
         "Free Trial",
         "Blocked",
         "Debit card",
         "Biennal",
         "Monthly",
         6605,
         "2022-08-15T17:33:36.500+0000"
        ],
        [
         6056,
         "6aebbabd-b711-42f0-8573-fd4c9d69fdbd",
         "Standard",
         "Blocked",
         "Google Pay",
         "Monthly",
         "Full subscription",
         6402,
         "2022-08-15T17:33:36.500+0000"
        ],
        [
         9211,
         "dbba97e0-6c83-461d-86e0-01bb4397334a",
         "Essential",
         "Pending",
         "Money transfer",
         "Monthly",
         "Annual",
         6740,
         "2022-08-15T17:33:36.500+0000"
        ],
        [
         1116,
         "a4320a27-4e4d-4f3f-89ed-ac8209668488",
         "Essential",
         "Blocked",
         "Cash",
         "Triennal",
         "Full subscription",
         6754,
         "2022-08-15T17:33:36.500+0000"
        ],
        [
         1971,
         "e1a8cd7e-4d57-4c6a-b0f2-5a2cce9de14d",
         "Free Trial",
         "Blocked",
         "Credit card",
         "Biennal",
         "Monthly",
         6540,
         "2022-08-15T17:33:36.500+0000"
        ],
        [
         8471,
         "719eaa6e-4642-479e-92f3-df930ff577c1",
         "Business",
         "Blocked",
         "Alipay",
         "Monthly",
         "Payment in advance",
         7064,
         "2022-08-15T17:33:36.500+0000"
        ],
        [
         9553,
         "62b76e83-dd96-496b-9a76-af6472603d00",
         "Free Trial",
         "Blocked",
         "WeChat Pay",
         "Lifetime",
         "Payment in advance",
         7432,
         "2022-08-15T17:33:36.500+0000"
        ],
        [
         1360,
         "86adff23-ecb4-4f11-a814-c0b87dba1f1a",
         "Starter",
         "Pending",
         "Apple Pay",
         "Lifetime",
         "Payment in advance",
         7532,
         "2022-08-15T17:33:36.500+0000"
        ],
        [
         4856,
         "07bf2c2e-6a25-49ad-9bc3-89d6166b906d",
         "Silver",
         "Idle",
         "Paypal",
         "Quinquennal",
         "Annual",
         7508,
         "2022-08-15T17:33:36.500+0000"
        ],
        [
         2965,
         "aa19c6df-cefb-4d71-9101-2250e0410653",
         "Silver",
         "Pending",
         "Paypal",
         "Weekly",
         "Annual",
         8019,
         "2022-08-15T17:33:36.500+0000"
        ],
        [
         3452,
         "102f0322-04ec-4c6f-a36c-d713ec1fef75",
         "Bronze",
         "Blocked",
         "Alipay",
         "Lifetime",
         "Annual",
         7478,
         "2022-08-15T17:33:36.500+0000"
        ],
        [
         7947,
         "a7b8bd73-92bc-472f-84a1-59073b6fa782",
         "Gold",
         "Pending",
         "Money transfer",
         "Annual",
         "Monthly",
         7987,
         "2022-08-15T17:33:36.500+0000"
        ],
        [
         4110,
         "4b63df18-8083-4b01-895e-9c53612756b8",
         "Professional",
         "Idle",
         "WeChat Pay",
         "Weekly",
         "Monthly",
         7433,
         "2022-08-15T17:33:36.500+0000"
        ],
        [
         9544,
         "51a44849-1888-4806-99c1-8f2bd8188753",
         "Silver",
         "Blocked",
         "Google Pay",
         "Biennal",
         "Annual",
         7232,
         "2022-08-15T17:33:36.500+0000"
        ],
        [
         4108,
         "1a3600a1-b892-4dab-a038-e6f863724043",
         "Premium",
         "Pending",
         "Debit card",
         "Monthly",
         "Full subscription",
         7297,
         "2022-08-15T17:33:36.500+0000"
        ],
        [
         1360,
         "a5709d42-f1f8-46cc-b297-cd0f60642278",
         "Business",
         "Blocked",
         "Cheque",
         "Daily",
         "Payment in advance",
         7560,
         "2022-08-15T17:33:36.500+0000"
        ],
        [
         6415,
         "e18048b8-6290-436c-a2e6-8711c2f8bd65",
         "Premium",
         "Idle",
         "Cash",
         "Quinquennal",
         "Annual",
         8839,
         "2022-08-15T17:33:36.500+0000"
        ],
        [
         8062,
         "fc78957b-3827-4177-bbc1-e7871594d965",
         "Basic",
         "Pending",
         "Alipay",
         "Biennal",
         "Full subscription",
         8733,
         "2022-08-15T17:33:36.500+0000"
        ],
        [
         7019,
         "4e744df4-543b-4ffe-b2fd-0164192a05b6",
         "Free Trial",
         "Blocked",
         "Bitcoins",
         "Monthly",
         "Monthly",
         8607,
         "2022-08-15T17:33:36.500+0000"
        ],
        [
         244,
         "a2d7b62e-01ca-4d30-a5c7-183f4f108037",
         "Standard",
         "Idle",
         "Google Pay",
         "Lifetime",
         "Payment in advance",
         8832,
         "2022-08-15T17:33:36.500+0000"
        ],
        [
         5335,
         "06ae7d57-a5b0-49f3-ab7b-89b10bb6c937",
         "Free Trial",
         "Blocked",
         "Bitcoins",
         "Daily",
         "Monthly",
         8707,
         "2022-08-15T17:33:36.500+0000"
        ],
        [
         8426,
         "a2a18ebb-8cf9-40f1-89e9-6494a7e0b56f",
         "Student",
         "Pending",
         "WeChat Pay",
         "Annual",
         "Full subscription",
         8597,
         "2022-08-15T17:33:36.500+0000"
        ],
        [
         3545,
         "7df13b94-c308-48f4-81a8-9b9ef47da0a4",
         "Gold",
         "Pending",
         "Cash",
         "Lifetime",
         "Monthly",
         8891,
         "2022-08-15T17:33:36.500+0000"
        ],
        [
         7922,
         "d2eb5f0e-563a-4071-ae2c-a4a4f024c586",
         "Business",
         "Active",
         "WeChat Pay",
         "Quinquennal",
         "Monthly",
         8715,
         "2022-08-15T17:33:36.500+0000"
        ],
        [
         8064,
         "1a4ae45e-7ed4-4850-8f14-1fc312bf1a4f",
         "Essential",
         "Idle",
         "Credit card",
         "Weekly",
         "Full subscription",
         8880,
         "2022-08-15T17:33:36.500+0000"
        ],
        [
         5427,
         "5aaf2d13-eabb-467c-90e4-57e582205fb1",
         "Basic",
         "Active",
         "Visa checkout",
         "Monthly",
         "Annual",
         8567,
         "2022-08-15T17:33:36.500+0000"
        ],
        [
         3671,
         "8170ebea-b3cc-4964-844f-0cf67257379a",
         "Premium",
         "Active",
         "WeChat Pay",
         "Annual",
         "Monthly",
         8306,
         "2022-08-15T17:33:36.500+0000"
        ],
        [
         1305,
         "34a0c79f-739b-4a7a-a8cb-30690b562566",
         "Student",
         "Idle",
         "Cheque",
         "Monthly",
         "Monthly",
         8139,
         "2022-08-15T17:33:36.500+0000"
        ],
        [
         9328,
         "e584b50c-9ac6-4c84-9464-a138aa45920e",
         "Platinum",
         "Idle",
         "Bitcoins",
         "Quinquennal",
         "Annual",
         8727,
         "2022-08-15T17:33:36.500+0000"
        ],
        [
         9661,
         "5b994ae0-5edc-4a62-adf9-001092419b91",
         "Starter",
         "Pending",
         "Paypal",
         "Daily",
         "Payment in advance",
         9458,
         "2022-08-15T17:33:36.500+0000"
        ],
        [
         89,
         "ef129d78-d541-4512-b202-bca154668cf0",
         "Gold",
         "Blocked",
         "Alipay",
         "Weekly",
         "Monthly",
         9488,
         "2022-08-15T17:33:36.500+0000"
        ],
        [
         1850,
         "04d41503-4ae6-4013-9184-d7cbfb05961f",
         "Essential",
         "Idle",
         "Credit card",
         "Weekly",
         "Monthly",
         9759,
         "2022-08-15T17:33:36.500+0000"
        ],
        [
         4413,
         "a46de0a0-19e0-4ad5-8fbd-73b86cd8f153",
         "Professional",
         "Idle",
         "Alipay",
         "Lifetime",
         "Payment in advance",
         9855,
         "2022-08-15T17:33:36.500+0000"
        ],
        [
         617,
         "74e50c91-f04b-4449-a36d-1150c743fc10",
         "Premium",
         "Active",
         "Money transfer",
         "Lifetime",
         "Full subscription",
         9973,
         "2022-08-15T17:33:36.500+0000"
        ],
        [
         3322,
         "2ba3b288-184c-43a5-a413-c6b35ec2d5ff",
         "Platinum",
         "Blocked",
         "Paypal",
         "Triennal",
         "Monthly",
         9875,
         "2022-08-15T17:33:36.500+0000"
        ]
       ],
       "datasetInfos": [],
       "dbfsResultPath": null,
       "isJsonSchema": true,
       "metadata": {},
       "overflow": false,
       "plotOptions": {
        "customPlotOptions": {},
        "displayType": "table",
        "pivotAggregation": null,
        "pivotColumns": null,
        "xColumns": null,
        "yColumns": null
       },
       "removedWidgets": [],
       "schema": [
        {
         "metadata": "{\"scale\":0}",
         "name": "id",
         "type": "\"long\""
        },
        {
         "metadata": "{\"scale\":0}",
         "name": "uid",
         "type": "\"string\""
        },
        {
         "metadata": "{\"scale\":0}",
         "name": "plan",
         "type": "\"string\""
        },
        {
         "metadata": "{\"scale\":0}",
         "name": "status",
         "type": "\"string\""
        },
        {
         "metadata": "{\"scale\":0}",
         "name": "payment_method",
         "type": "\"string\""
        },
        {
         "metadata": "{\"scale\":0}",
         "name": "subscription_term",
         "type": "\"string\""
        },
        {
         "metadata": "{\"scale\":0}",
         "name": "payment_term",
         "type": "\"string\""
        },
        {
         "metadata": "{\"scale\":0}",
         "name": "user_id",
         "type": "\"long\""
        },
        {
         "metadata": "{\"scale\":3}",
         "name": "dt_current_timestamp",
         "type": "\"timestamp\""
        }
       ],
       "type": "table"
      }
     },
     "output_type": "display_data"
    }
   ],
   "source": [
    "# read table subscription from sql server\n",
    "# using additional configurations to read at scale\n",
    "# register as a spark sql object\n",
    "df_subscription = spark.read.jdbc(url=jdbcUrl, table=\"subscription\", column=\"user_id\", lowerBound=1, upperBound=100000, numPartitions=100, properties=connectionProperties)\n",
    "df_subscription.registerTempTable(\"vw_subscription\")\n",
    "display(df_subscription)"
   ]
  },
  {
   "cell_type": "code",
   "execution_count": 0,
   "metadata": {
    "application/vnd.databricks.v1+cell": {
     "cellMetadata": {},
     "inputWidgets": {},
     "nuid": "71114788-b25b-4ec7-95fb-12d326aed143",
     "showTitle": false,
     "title": ""
    }
   },
   "outputs": [
    {
     "output_type": "display_data",
     "data": {
      "text/html": [
       "<style scoped>\n",
       "  .ansiout {\n",
       "    display: block;\n",
       "    unicode-bidi: embed;\n",
       "    white-space: pre-wrap;\n",
       "    word-wrap: break-word;\n",
       "    word-break: break-all;\n",
       "    font-family: \"Menlo\", \"Monaco\", \"Consolas\", \"Ubuntu Mono\", \"Source Code Pro\", monospace;\n",
       "    font-size: 13px;\n",
       "    color: #555;\n",
       "    margin-left: 4px;\n",
       "    line-height: 19px;\n",
       "  }\n",
       "</style>\n",
       "<div class=\"ansiout\">100\n",
       "</div>"
      ]
     },
     "metadata": {
      "application/vnd.databricks.v1+output": {
       "addedWidgets": {},
       "arguments": {},
       "data": "<div class=\"ansiout\">100\n</div>",
       "datasetInfos": [],
       "metadata": {},
       "removedWidgets": [],
       "type": "html"
      }
     },
     "output_type": "display_data"
    }
   ],
   "source": [
    "print(df_subscription.rdd.getNumPartitions())"
   ]
  },
  {
   "cell_type": "code",
   "execution_count": 0,
   "metadata": {
    "application/vnd.databricks.v1+cell": {
     "cellMetadata": {},
     "inputWidgets": {},
     "nuid": "3f795f3c-1a39-4ef7-8107-fc7e0ab49a58",
     "showTitle": false,
     "title": ""
    }
   },
   "outputs": [
    {
     "output_type": "display_data",
     "data": {
      "text/html": [
       "<style scoped>\n",
       "  .table-result-container {\n",
       "    max-height: 300px;\n",
       "    overflow: auto;\n",
       "  }\n",
       "  table, th, td {\n",
       "    border: 1px solid black;\n",
       "    border-collapse: collapse;\n",
       "  }\n",
       "  th, td {\n",
       "    padding: 5px;\n",
       "  }\n",
       "  th {\n",
       "    text-align: left;\n",
       "  }\n",
       "</style><div class='table-result-container'><table class='table-result'><thead style='background-color: white'><tr><th>count(1)</th></tr></thead><tbody><tr><td>100</td></tr></tbody></table></div>"
      ]
     },
     "metadata": {
      "application/vnd.databricks.v1+output": {
       "addedWidgets": {},
       "aggData": [],
       "aggError": "",
       "aggOverflow": false,
       "aggSchema": [],
       "aggSeriesLimitReached": false,
       "aggType": "",
       "arguments": {},
       "columnCustomDisplayInfos": {},
       "data": [
        [
         100
        ]
       ],
       "datasetInfos": [],
       "dbfsResultPath": null,
       "isJsonSchema": true,
       "metadata": {
        "isDbfsCommandResult": false
       },
       "overflow": false,
       "plotOptions": {
        "customPlotOptions": {},
        "displayType": "table",
        "pivotAggregation": null,
        "pivotColumns": null,
        "xColumns": null,
        "yColumns": null
       },
       "removedWidgets": [],
       "schema": [
        {
         "metadata": "{\"__autoGeneratedAlias\":\"true\"}",
         "name": "count(1)",
         "type": "\"long\""
        }
       ],
       "type": "table"
      }
     },
     "output_type": "display_data"
    }
   ],
   "source": [
    "%sql\n",
    "\n",
    "-- count amount of rows\n",
    "-- 5.020\n",
    "-- 52.220\n",
    "-- 55.620\n",
    "-- 100\n",
    "SELECT COUNT(*) \n",
    "FROM vw_subscription"
   ]
  },
  {
   "cell_type": "code",
   "execution_count": 0,
   "metadata": {
    "application/vnd.databricks.v1+cell": {
     "cellMetadata": {},
     "inputWidgets": {},
     "nuid": "b543887e-1733-419f-b475-a8ebb3a7b064",
     "showTitle": false,
     "title": ""
    }
   },
   "outputs": [
    {
     "output_type": "display_data",
     "data": {
      "text/html": [
       "<style scoped>\n",
       "  .table-result-container {\n",
       "    max-height: 300px;\n",
       "    overflow: auto;\n",
       "  }\n",
       "  table, th, td {\n",
       "    border: 1px solid black;\n",
       "    border-collapse: collapse;\n",
       "  }\n",
       "  th, td {\n",
       "    padding: 5px;\n",
       "  }\n",
       "  th {\n",
       "    text-align: left;\n",
       "  }\n",
       "</style><div class='table-result-container'><table class='table-result'><thead style='background-color: white'><tr><th>id</th><th>uid</th><th>plan</th><th>status</th><th>payment_method</th><th>subscription_term</th><th>payment_term</th><th>user_id</th><th>dt_current_timestamp</th></tr></thead><tbody><tr><td>7549</td><td>c51d4631-dbf3-422c-8b78-8fcdb2aa44e2</td><td>Platinum</td><td>Active</td><td>Cheque</td><td>Daily</td><td>Monthly</td><td>433</td><td>2022-08-15T17:33:36.500+0000</td></tr><tr><td>7275</td><td>79ff49f2-55c5-4fe6-92ea-c64bb96c6afd</td><td>Silver</td><td>Blocked</td><td>Apple Pay</td><td>Triennal</td><td>Full subscription</td><td>146</td><td>2022-08-15T17:33:36.500+0000</td></tr><tr><td>3802</td><td>7954062e-6581-4443-a5fb-bf63c2858bd7</td><td>Starter</td><td>Blocked</td><td>Alipay</td><td>Triennal</td><td>Payment in advance</td><td>719</td><td>2022-08-15T17:33:36.500+0000</td></tr><tr><td>7179</td><td>1c7aba55-475a-496a-a915-49ff84b41c99</td><td>Gold</td><td>Pending</td><td>Cheque</td><td>Triennal</td><td>Annual</td><td>241</td><td>2022-08-15T17:33:36.500+0000</td></tr><tr><td>266</td><td>c68a51e7-c4a6-4206-bded-fd5d6d3a9795</td><td>Silver</td><td>Idle</td><td>Bitcoins</td><td>Daily</td><td>Payment in advance</td><td>118</td><td>2022-08-15T17:33:36.500+0000</td></tr><tr><td>4273</td><td>a6c3bfe6-652f-4f32-9025-5c5603284bc6</td><td>Platinum</td><td>Active</td><td>WeChat Pay</td><td>Daily</td><td>Monthly</td><td>312</td><td>2022-08-15T17:33:36.500+0000</td></tr><tr><td>3320</td><td>95f6ce41-b552-4acf-9c9e-8598864d4737</td><td>Silver</td><td>Pending</td><td>WeChat Pay</td><td>Quinquennal</td><td>Full subscription</td><td>1600</td><td>2022-08-15T17:33:36.500+0000</td></tr><tr><td>400</td><td>c0460f39-217b-470b-87bd-97f962c2c618</td><td>Standard</td><td>Idle</td><td>Apple Pay</td><td>Daily</td><td>Annual</td><td>1594</td><td>2022-08-15T17:33:36.500+0000</td></tr><tr><td>9492</td><td>8592267d-bb65-418a-a1b4-98e9eba85d82</td><td>Gold</td><td>Idle</td><td>Debit card</td><td>Lifetime</td><td>Monthly</td><td>1736</td><td>2022-08-15T17:33:36.500+0000</td></tr><tr><td>3571</td><td>d8ae36d0-7430-4dc4-99c0-2e0bb1cb7ab3</td><td>Basic</td><td>Idle</td><td>Apple Pay</td><td>Quinquennal</td><td>Full subscription</td><td>1935</td><td>2022-08-15T17:33:36.500+0000</td></tr><tr><td>4442</td><td>40da40c6-5f48-4f73-8e1c-004623ec09c3</td><td>Silver</td><td>Active</td><td>Cash</td><td>Biennal</td><td>Payment in advance</td><td>1516</td><td>2022-08-15T17:33:36.500+0000</td></tr><tr><td>6126</td><td>2481c412-41c7-43a9-b05b-d1f10ab464d7</td><td>Professional</td><td>Idle</td><td>Alipay</td><td>Daily</td><td>Monthly</td><td>1341</td><td>2022-08-15T17:33:36.500+0000</td></tr><tr><td>3770</td><td>0ba31ae3-c7a2-404d-87f6-32f785795e90</td><td>Basic</td><td>Active</td><td>Alipay</td><td>Triennal</td><td>Annual</td><td>1074</td><td>2022-08-15T17:33:36.500+0000</td></tr><tr><td>3298</td><td>b55da4df-4bb7-4f52-a1ab-7bfaff7f0d15</td><td>Business</td><td>Idle</td><td>Debit card</td><td>Lifetime</td><td>Monthly</td><td>1638</td><td>2022-08-15T17:33:36.500+0000</td></tr><tr><td>544</td><td>76678135-a06f-4a54-967d-632f05471613</td><td>Diamond</td><td>Blocked</td><td>Cash</td><td>Annual</td><td>Annual</td><td>1194</td><td>2022-08-15T17:33:36.500+0000</td></tr><tr><td>6486</td><td>33e3a37c-39a1-43e3-83d1-8175f65c1300</td><td>Business</td><td>Blocked</td><td>Cheque</td><td>Quinquennal</td><td>Annual</td><td>1321</td><td>2022-08-15T17:33:36.500+0000</td></tr><tr><td>3535</td><td>113b0604-9373-4301-8a16-2dc27eb3e4d8</td><td>Free Trial</td><td>Blocked</td><td>Apple Pay</td><td>Triennal</td><td>Payment in advance</td><td>1476</td><td>2022-08-15T17:33:36.500+0000</td></tr><tr><td>8941</td><td>344a418a-d93e-46d3-8f40-2e5721cac1e9</td><td>Starter</td><td>Idle</td><td>Paypal</td><td>Monthly</td><td>Payment in advance</td><td>1984</td><td>2022-08-15T17:33:36.500+0000</td></tr><tr><td>5164</td><td>b3618522-8e01-48ae-8dcb-332b8ea6ac7c</td><td>Gold</td><td>Pending</td><td>Paypal</td><td>Lifetime</td><td>Annual</td><td>1551</td><td>2022-08-15T17:33:36.500+0000</td></tr><tr><td>1517</td><td>0015dc48-e3f6-451c-b19b-fa442519f09d</td><td>Diamond</td><td>Idle</td><td>Google Pay</td><td>Triennal</td><td>Annual</td><td>1219</td><td>2022-08-15T17:33:36.500+0000</td></tr><tr><td>5928</td><td>a39fa55c-d428-4ea2-9d64-ba6dd9261b71</td><td>Gold</td><td>Pending</td><td>Google Pay</td><td>Annual</td><td>Payment in advance</td><td>2050</td><td>2022-08-15T17:33:36.500+0000</td></tr><tr><td>7871</td><td>7a63bdc1-45ba-4c14-8d55-f5d5e719f68a</td><td>Premium</td><td>Idle</td><td>Visa checkout</td><td>Annual</td><td>Annual</td><td>2813</td><td>2022-08-15T17:33:36.500+0000</td></tr><tr><td>9503</td><td>5e783fdc-8dd2-4042-9599-a3b547421612</td><td>Business</td><td>Idle</td><td>Paypal</td><td>Annual</td><td>Annual</td><td>2416</td><td>2022-08-15T17:33:36.500+0000</td></tr><tr><td>9369</td><td>2c8b187c-8458-4c8a-94a6-00aa323f888c</td><td>Free Trial</td><td>Blocked</td><td>Bitcoins</td><td>Daily</td><td>Monthly</td><td>3019</td><td>2022-08-15T17:33:36.500+0000</td></tr><tr><td>961</td><td>8992219e-a58f-4a38-b937-81d893c01655</td><td>Silver</td><td>Active</td><td>Credit card</td><td>Biennal</td><td>Full subscription</td><td>2317</td><td>2022-08-15T17:33:36.500+0000</td></tr><tr><td>4377</td><td>0a493839-b727-48a7-afc3-f4bc567e056c</td><td>Platinum</td><td>Pending</td><td>Debit card</td><td>Lifetime</td><td>Annual</td><td>3027</td><td>2022-08-15T17:33:36.500+0000</td></tr><tr><td>5203</td><td>62cee4c0-e489-441a-9d5b-b40734ce9f9d</td><td>Business</td><td>Blocked</td><td>Paypal</td><td>Triennal</td><td>Full subscription</td><td>2142</td><td>2022-08-15T17:33:36.500+0000</td></tr><tr><td>3612</td><td>f6e0afc2-07fd-4c33-bf85-1e54db01cd1e</td><td>Free Trial</td><td>Blocked</td><td>Cash</td><td>Daily</td><td>Full subscription</td><td>2809</td><td>2022-08-15T17:33:36.500+0000</td></tr><tr><td>8638</td><td>2035f1f5-0bca-44c0-8bf2-282227aa953d</td><td>Essential</td><td>Blocked</td><td>Apple Pay</td><td>Weekly</td><td>Monthly</td><td>2551</td><td>2022-08-15T17:33:36.500+0000</td></tr><tr><td>3149</td><td>1deb7586-b809-4263-a04f-961a91638890</td><td>Starter</td><td>Blocked</td><td>Paypal</td><td>Annual</td><td>Monthly</td><td>2957</td><td>2022-08-15T17:33:36.500+0000</td></tr><tr><td>7104</td><td>cd052bb4-7067-43e8-89b1-bc64740a7b88</td><td>Free Trial</td><td>Blocked</td><td>Cheque</td><td>Monthly</td><td>Annual</td><td>2421</td><td>2022-08-15T17:33:36.500+0000</td></tr><tr><td>7380</td><td>28475c5e-7f8b-4096-8efc-0895ac59bf8c</td><td>Standard</td><td>Active</td><td>WeChat Pay</td><td>Monthly</td><td>Payment in advance</td><td>2214</td><td>2022-08-15T17:33:36.500+0000</td></tr><tr><td>5927</td><td>425441e8-0807-4559-9ae5-34db10b7f242</td><td>Business</td><td>Idle</td><td>Alipay</td><td>Weekly</td><td>Monthly</td><td>2781</td><td>2022-08-15T17:33:36.500+0000</td></tr><tr><td>3793</td><td>3df7f719-3087-4cac-ab0d-7b073029fea6</td><td>Free Trial</td><td>Active</td><td>Alipay</td><td>Triennal</td><td>Full subscription</td><td>2313</td><td>2022-08-15T17:33:36.500+0000</td></tr><tr><td>1660</td><td>8346132b-dd53-451a-98c4-b85ddac9b0d1</td><td>Professional</td><td>Active</td><td>Google Pay</td><td>Annual</td><td>Full subscription</td><td>2194</td><td>2022-08-15T17:33:36.500+0000</td></tr><tr><td>9766</td><td>a9a39b8d-bb61-41ce-ad62-e9346aa60262</td><td>Professional</td><td>Active</td><td>WeChat Pay</td><td>Annual</td><td>Payment in advance</td><td>2893</td><td>2022-08-15T17:33:36.500+0000</td></tr><tr><td>9201</td><td>75540bcc-43fe-40e8-9624-3645d0b5c945</td><td>Premium</td><td>Blocked</td><td>Bitcoins</td><td>Annual</td><td>Payment in advance</td><td>2068</td><td>2022-08-15T17:33:36.500+0000</td></tr><tr><td>2269</td><td>4ce0f080-8279-49ad-88ab-ced4111a0309</td><td>Diamond</td><td>Pending</td><td>Apple Pay</td><td>Annual</td><td>Full subscription</td><td>3173</td><td>2022-08-15T17:33:36.500+0000</td></tr><tr><td>3413</td><td>c6e2a510-57e9-4038-b0d1-401941e336e9</td><td>Basic</td><td>Blocked</td><td>Bitcoins</td><td>Lifetime</td><td>Payment in advance</td><td>3199</td><td>2022-08-15T17:33:36.500+0000</td></tr><tr><td>9791</td><td>18d85d9b-b490-40ba-8d65-b11a7a85b520</td><td>Diamond</td><td>Active</td><td>Visa checkout</td><td>Quinquennal</td><td>Annual</td><td>3996</td><td>2022-08-15T17:33:36.500+0000</td></tr><tr><td>122</td><td>029e58b8-4ff0-48f5-acae-7a0ec7d9aa65</td><td>Free Trial</td><td>Pending</td><td>WeChat Pay</td><td>Weekly</td><td>Full subscription</td><td>3632</td><td>2022-08-15T17:33:36.500+0000</td></tr><tr><td>5019</td><td>3f320a09-e5e5-4fe9-bd41-4c78a86a4bfd</td><td>Standard</td><td>Blocked</td><td>Alipay</td><td>Weekly</td><td>Payment in advance</td><td>3065</td><td>2022-08-15T17:33:36.500+0000</td></tr><tr><td>7906</td><td>e09cc4ee-8e3b-4d2e-8170-a28d66eb6277</td><td>Student</td><td>Pending</td><td>Google Pay</td><td>Monthly</td><td>Payment in advance</td><td>3694</td><td>2022-08-15T17:33:36.500+0000</td></tr><tr><td>8759</td><td>e72473cc-2754-4cac-936d-a81f1033da34</td><td>Student</td><td>Pending</td><td>Visa checkout</td><td>Quinquennal</td><td>Full subscription</td><td>3862</td><td>2022-08-15T17:33:36.500+0000</td></tr><tr><td>1475</td><td>3818520f-07ea-482b-bfdd-5cb7f37a6bd2</td><td>Starter</td><td>Idle</td><td>Money transfer</td><td>Biennal</td><td>Monthly</td><td>3945</td><td>2022-08-15T17:33:36.500+0000</td></tr><tr><td>3510</td><td>dc87229c-545a-49ab-9a94-db4d32a19e8f</td><td>Silver</td><td>Idle</td><td>WeChat Pay</td><td>Weekly</td><td>Annual</td><td>3774</td><td>2022-08-15T17:33:36.500+0000</td></tr><tr><td>980</td><td>825dbc93-8652-4b1d-8948-c8ea8e12ced8</td><td>Silver</td><td>Blocked</td><td>Cheque</td><td>Daily</td><td>Annual</td><td>4445</td><td>2022-08-15T17:33:36.500+0000</td></tr><tr><td>1831</td><td>d4b877b0-b4c4-4f9f-ae86-86bd65ffa584</td><td>Silver</td><td>Pending</td><td>WeChat Pay</td><td>Triennal</td><td>Annual</td><td>4608</td><td>2022-08-15T17:33:36.500+0000</td></tr><tr><td>2185</td><td>addd3caa-13c5-4553-a61c-8a297d4ca1e8</td><td>Gold</td><td>Idle</td><td>Money transfer</td><td>Monthly</td><td>Annual</td><td>5020</td><td>2022-08-15T17:33:36.500+0000</td></tr><tr><td>6460</td><td>e781b092-ac57-416e-9af8-644147481a88</td><td>Basic</td><td>Blocked</td><td>Paypal</td><td>Quinquennal</td><td>Annual</td><td>4965</td><td>2022-08-15T17:33:36.500+0000</td></tr><tr><td>1490</td><td>bc86ed81-173c-481a-9bd9-d95b31543d78</td><td>Student</td><td>Idle</td><td>Credit card</td><td>Quinquennal</td><td>Full subscription</td><td>5572</td><td>2022-08-15T17:33:36.500+0000</td></tr><tr><td>9194</td><td>39a2a01e-2a2e-48fb-be3c-1eea8859849e</td><td>Diamond</td><td>Pending</td><td>Apple Pay</td><td>Triennal</td><td>Full subscription</td><td>5133</td><td>2022-08-15T17:33:36.500+0000</td></tr><tr><td>4719</td><td>48f9d7a7-18ea-4640-81f4-0eb1d923aead</td><td>Basic</td><td>Pending</td><td>WeChat Pay</td><td>Quinquennal</td><td>Annual</td><td>5340</td><td>2022-08-15T17:33:36.500+0000</td></tr><tr><td>7711</td><td>1cf06a0d-fa32-40b5-899a-f36003a5884e</td><td>Basic</td><td>Pending</td><td>Paypal</td><td>Daily</td><td>Annual</td><td>5498</td><td>2022-08-15T17:33:36.500+0000</td></tr><tr><td>7555</td><td>aea76df2-8675-4651-a849-5e7161295a58</td><td>Standard</td><td>Idle</td><td>Cheque</td><td>Biennal</td><td>Payment in advance</td><td>5319</td><td>2022-08-15T17:33:36.500+0000</td></tr><tr><td>2283</td><td>bfc8885b-84cb-4b00-91ed-855b7118e785</td><td>Silver</td><td>Blocked</td><td>Bitcoins</td><td>Triennal</td><td>Payment in advance</td><td>5730</td><td>2022-08-15T17:33:36.500+0000</td></tr><tr><td>8294</td><td>5922f1bb-c7b7-4642-8c1d-9defc9aee31e</td><td>Professional</td><td>Pending</td><td>Visa checkout</td><td>Daily</td><td>Annual</td><td>5656</td><td>2022-08-15T17:33:36.500+0000</td></tr><tr><td>9040</td><td>7e71a40a-d4e4-4376-b7ad-d1364199b79a</td><td>Silver</td><td>Pending</td><td>Debit card</td><td>Weekly</td><td>Full subscription</td><td>5844</td><td>2022-08-15T17:33:36.500+0000</td></tr><tr><td>3868</td><td>67b39bc8-84e9-4232-ad37-200e9864c1a4</td><td>Platinum</td><td>Blocked</td><td>Cash</td><td>Quinquennal</td><td>Payment in advance</td><td>5756</td><td>2022-08-15T17:33:36.500+0000</td></tr><tr><td>741</td><td>1ce1bfb4-3b35-426d-a01d-73c71026acc8</td><td>Premium</td><td>Idle</td><td>Apple Pay</td><td>Quinquennal</td><td>Full subscription</td><td>7037</td><td>2022-08-15T17:33:36.500+0000</td></tr><tr><td>7112</td><td>b8bd043e-3314-4588-ac00-9eae272d3ba0</td><td>Premium</td><td>Pending</td><td>Cash</td><td>Quinquennal</td><td>Payment in advance</td><td>6360</td><td>2022-08-15T17:33:36.500+0000</td></tr><tr><td>1381</td><td>3277f148-ece4-42fa-977c-7ce758470cf4</td><td>Free Trial</td><td>Idle</td><td>Debit card</td><td>Daily</td><td>Payment in advance</td><td>6830</td><td>2022-08-15T17:33:36.500+0000</td></tr><tr><td>985</td><td>b6b087e9-4d58-40df-abe8-6b5e3d9305cf</td><td>Essential</td><td>Blocked</td><td>Visa checkout</td><td>Daily</td><td>Monthly</td><td>6133</td><td>2022-08-15T17:33:36.500+0000</td></tr><tr><td>1544</td><td>0ceefa6f-4f0d-4350-8256-b12609191f71</td><td>Gold</td><td>Pending</td><td>Apple Pay</td><td>Quinquennal</td><td>Full subscription</td><td>6608</td><td>2022-08-15T17:33:36.500+0000</td></tr><tr><td>2010</td><td>f139f85a-6675-4964-b7d9-672960a86bcf</td><td>Professional</td><td>Active</td><td>WeChat Pay</td><td>Daily</td><td>Payment in advance</td><td>6418</td><td>2022-08-15T17:33:36.500+0000</td></tr><tr><td>3711</td><td>6f0baec6-c489-4a89-86a7-8681139c8e0e</td><td>Free Trial</td><td>Blocked</td><td>Debit card</td><td>Biennal</td><td>Monthly</td><td>6605</td><td>2022-08-15T17:33:36.500+0000</td></tr><tr><td>6056</td><td>6aebbabd-b711-42f0-8573-fd4c9d69fdbd</td><td>Standard</td><td>Blocked</td><td>Google Pay</td><td>Monthly</td><td>Full subscription</td><td>6402</td><td>2022-08-15T17:33:36.500+0000</td></tr><tr><td>9211</td><td>dbba97e0-6c83-461d-86e0-01bb4397334a</td><td>Essential</td><td>Pending</td><td>Money transfer</td><td>Monthly</td><td>Annual</td><td>6740</td><td>2022-08-15T17:33:36.500+0000</td></tr><tr><td>1116</td><td>a4320a27-4e4d-4f3f-89ed-ac8209668488</td><td>Essential</td><td>Blocked</td><td>Cash</td><td>Triennal</td><td>Full subscription</td><td>6754</td><td>2022-08-15T17:33:36.500+0000</td></tr><tr><td>1971</td><td>e1a8cd7e-4d57-4c6a-b0f2-5a2cce9de14d</td><td>Free Trial</td><td>Blocked</td><td>Credit card</td><td>Biennal</td><td>Monthly</td><td>6540</td><td>2022-08-15T17:33:36.500+0000</td></tr><tr><td>8471</td><td>719eaa6e-4642-479e-92f3-df930ff577c1</td><td>Business</td><td>Blocked</td><td>Alipay</td><td>Monthly</td><td>Payment in advance</td><td>7064</td><td>2022-08-15T17:33:36.500+0000</td></tr><tr><td>9553</td><td>62b76e83-dd96-496b-9a76-af6472603d00</td><td>Free Trial</td><td>Blocked</td><td>WeChat Pay</td><td>Lifetime</td><td>Payment in advance</td><td>7432</td><td>2022-08-15T17:33:36.500+0000</td></tr><tr><td>1360</td><td>86adff23-ecb4-4f11-a814-c0b87dba1f1a</td><td>Starter</td><td>Pending</td><td>Apple Pay</td><td>Lifetime</td><td>Payment in advance</td><td>7532</td><td>2022-08-15T17:33:36.500+0000</td></tr><tr><td>4856</td><td>07bf2c2e-6a25-49ad-9bc3-89d6166b906d</td><td>Silver</td><td>Idle</td><td>Paypal</td><td>Quinquennal</td><td>Annual</td><td>7508</td><td>2022-08-15T17:33:36.500+0000</td></tr><tr><td>2965</td><td>aa19c6df-cefb-4d71-9101-2250e0410653</td><td>Silver</td><td>Pending</td><td>Paypal</td><td>Weekly</td><td>Annual</td><td>8019</td><td>2022-08-15T17:33:36.500+0000</td></tr><tr><td>3452</td><td>102f0322-04ec-4c6f-a36c-d713ec1fef75</td><td>Bronze</td><td>Blocked</td><td>Alipay</td><td>Lifetime</td><td>Annual</td><td>7478</td><td>2022-08-15T17:33:36.500+0000</td></tr><tr><td>7947</td><td>a7b8bd73-92bc-472f-84a1-59073b6fa782</td><td>Gold</td><td>Pending</td><td>Money transfer</td><td>Annual</td><td>Monthly</td><td>7987</td><td>2022-08-15T17:33:36.500+0000</td></tr><tr><td>4110</td><td>4b63df18-8083-4b01-895e-9c53612756b8</td><td>Professional</td><td>Idle</td><td>WeChat Pay</td><td>Weekly</td><td>Monthly</td><td>7433</td><td>2022-08-15T17:33:36.500+0000</td></tr><tr><td>9544</td><td>51a44849-1888-4806-99c1-8f2bd8188753</td><td>Silver</td><td>Blocked</td><td>Google Pay</td><td>Biennal</td><td>Annual</td><td>7232</td><td>2022-08-15T17:33:36.500+0000</td></tr><tr><td>4108</td><td>1a3600a1-b892-4dab-a038-e6f863724043</td><td>Premium</td><td>Pending</td><td>Debit card</td><td>Monthly</td><td>Full subscription</td><td>7297</td><td>2022-08-15T17:33:36.500+0000</td></tr><tr><td>1360</td><td>a5709d42-f1f8-46cc-b297-cd0f60642278</td><td>Business</td><td>Blocked</td><td>Cheque</td><td>Daily</td><td>Payment in advance</td><td>7560</td><td>2022-08-15T17:33:36.500+0000</td></tr><tr><td>6415</td><td>e18048b8-6290-436c-a2e6-8711c2f8bd65</td><td>Premium</td><td>Idle</td><td>Cash</td><td>Quinquennal</td><td>Annual</td><td>8839</td><td>2022-08-15T17:33:36.500+0000</td></tr><tr><td>8062</td><td>fc78957b-3827-4177-bbc1-e7871594d965</td><td>Basic</td><td>Pending</td><td>Alipay</td><td>Biennal</td><td>Full subscription</td><td>8733</td><td>2022-08-15T17:33:36.500+0000</td></tr><tr><td>7019</td><td>4e744df4-543b-4ffe-b2fd-0164192a05b6</td><td>Free Trial</td><td>Blocked</td><td>Bitcoins</td><td>Monthly</td><td>Monthly</td><td>8607</td><td>2022-08-15T17:33:36.500+0000</td></tr><tr><td>244</td><td>a2d7b62e-01ca-4d30-a5c7-183f4f108037</td><td>Standard</td><td>Idle</td><td>Google Pay</td><td>Lifetime</td><td>Payment in advance</td><td>8832</td><td>2022-08-15T17:33:36.500+0000</td></tr><tr><td>5335</td><td>06ae7d57-a5b0-49f3-ab7b-89b10bb6c937</td><td>Free Trial</td><td>Blocked</td><td>Bitcoins</td><td>Daily</td><td>Monthly</td><td>8707</td><td>2022-08-15T17:33:36.500+0000</td></tr><tr><td>8426</td><td>a2a18ebb-8cf9-40f1-89e9-6494a7e0b56f</td><td>Student</td><td>Pending</td><td>WeChat Pay</td><td>Annual</td><td>Full subscription</td><td>8597</td><td>2022-08-15T17:33:36.500+0000</td></tr><tr><td>3545</td><td>7df13b94-c308-48f4-81a8-9b9ef47da0a4</td><td>Gold</td><td>Pending</td><td>Cash</td><td>Lifetime</td><td>Monthly</td><td>8891</td><td>2022-08-15T17:33:36.500+0000</td></tr><tr><td>7922</td><td>d2eb5f0e-563a-4071-ae2c-a4a4f024c586</td><td>Business</td><td>Active</td><td>WeChat Pay</td><td>Quinquennal</td><td>Monthly</td><td>8715</td><td>2022-08-15T17:33:36.500+0000</td></tr><tr><td>8064</td><td>1a4ae45e-7ed4-4850-8f14-1fc312bf1a4f</td><td>Essential</td><td>Idle</td><td>Credit card</td><td>Weekly</td><td>Full subscription</td><td>8880</td><td>2022-08-15T17:33:36.500+0000</td></tr><tr><td>5427</td><td>5aaf2d13-eabb-467c-90e4-57e582205fb1</td><td>Basic</td><td>Active</td><td>Visa checkout</td><td>Monthly</td><td>Annual</td><td>8567</td><td>2022-08-15T17:33:36.500+0000</td></tr><tr><td>3671</td><td>8170ebea-b3cc-4964-844f-0cf67257379a</td><td>Premium</td><td>Active</td><td>WeChat Pay</td><td>Annual</td><td>Monthly</td><td>8306</td><td>2022-08-15T17:33:36.500+0000</td></tr><tr><td>1305</td><td>34a0c79f-739b-4a7a-a8cb-30690b562566</td><td>Student</td><td>Idle</td><td>Cheque</td><td>Monthly</td><td>Monthly</td><td>8139</td><td>2022-08-15T17:33:36.500+0000</td></tr><tr><td>9328</td><td>e584b50c-9ac6-4c84-9464-a138aa45920e</td><td>Platinum</td><td>Idle</td><td>Bitcoins</td><td>Quinquennal</td><td>Annual</td><td>8727</td><td>2022-08-15T17:33:36.500+0000</td></tr><tr><td>9661</td><td>5b994ae0-5edc-4a62-adf9-001092419b91</td><td>Starter</td><td>Pending</td><td>Paypal</td><td>Daily</td><td>Payment in advance</td><td>9458</td><td>2022-08-15T17:33:36.500+0000</td></tr><tr><td>89</td><td>ef129d78-d541-4512-b202-bca154668cf0</td><td>Gold</td><td>Blocked</td><td>Alipay</td><td>Weekly</td><td>Monthly</td><td>9488</td><td>2022-08-15T17:33:36.500+0000</td></tr><tr><td>1850</td><td>04d41503-4ae6-4013-9184-d7cbfb05961f</td><td>Essential</td><td>Idle</td><td>Credit card</td><td>Weekly</td><td>Monthly</td><td>9759</td><td>2022-08-15T17:33:36.500+0000</td></tr><tr><td>4413</td><td>a46de0a0-19e0-4ad5-8fbd-73b86cd8f153</td><td>Professional</td><td>Idle</td><td>Alipay</td><td>Lifetime</td><td>Payment in advance</td><td>9855</td><td>2022-08-15T17:33:36.500+0000</td></tr><tr><td>617</td><td>74e50c91-f04b-4449-a36d-1150c743fc10</td><td>Premium</td><td>Active</td><td>Money transfer</td><td>Lifetime</td><td>Full subscription</td><td>9973</td><td>2022-08-15T17:33:36.500+0000</td></tr><tr><td>3322</td><td>2ba3b288-184c-43a5-a413-c6b35ec2d5ff</td><td>Platinum</td><td>Blocked</td><td>Paypal</td><td>Triennal</td><td>Monthly</td><td>9875</td><td>2022-08-15T17:33:36.500+0000</td></tr></tbody></table></div>"
      ]
     },
     "metadata": {
      "application/vnd.databricks.v1+output": {
       "addedWidgets": {},
       "aggData": [],
       "aggError": "",
       "aggOverflow": false,
       "aggSchema": [],
       "aggSeriesLimitReached": false,
       "aggType": "",
       "arguments": {},
       "columnCustomDisplayInfos": {},
       "data": [
        [
         7549,
         "c51d4631-dbf3-422c-8b78-8fcdb2aa44e2",
         "Platinum",
         "Active",
         "Cheque",
         "Daily",
         "Monthly",
         433,
         "2022-08-15T17:33:36.500+0000"
        ],
        [
         7275,
         "79ff49f2-55c5-4fe6-92ea-c64bb96c6afd",
         "Silver",
         "Blocked",
         "Apple Pay",
         "Triennal",
         "Full subscription",
         146,
         "2022-08-15T17:33:36.500+0000"
        ],
        [
         3802,
         "7954062e-6581-4443-a5fb-bf63c2858bd7",
         "Starter",
         "Blocked",
         "Alipay",
         "Triennal",
         "Payment in advance",
         719,
         "2022-08-15T17:33:36.500+0000"
        ],
        [
         7179,
         "1c7aba55-475a-496a-a915-49ff84b41c99",
         "Gold",
         "Pending",
         "Cheque",
         "Triennal",
         "Annual",
         241,
         "2022-08-15T17:33:36.500+0000"
        ],
        [
         266,
         "c68a51e7-c4a6-4206-bded-fd5d6d3a9795",
         "Silver",
         "Idle",
         "Bitcoins",
         "Daily",
         "Payment in advance",
         118,
         "2022-08-15T17:33:36.500+0000"
        ],
        [
         4273,
         "a6c3bfe6-652f-4f32-9025-5c5603284bc6",
         "Platinum",
         "Active",
         "WeChat Pay",
         "Daily",
         "Monthly",
         312,
         "2022-08-15T17:33:36.500+0000"
        ],
        [
         3320,
         "95f6ce41-b552-4acf-9c9e-8598864d4737",
         "Silver",
         "Pending",
         "WeChat Pay",
         "Quinquennal",
         "Full subscription",
         1600,
         "2022-08-15T17:33:36.500+0000"
        ],
        [
         400,
         "c0460f39-217b-470b-87bd-97f962c2c618",
         "Standard",
         "Idle",
         "Apple Pay",
         "Daily",
         "Annual",
         1594,
         "2022-08-15T17:33:36.500+0000"
        ],
        [
         9492,
         "8592267d-bb65-418a-a1b4-98e9eba85d82",
         "Gold",
         "Idle",
         "Debit card",
         "Lifetime",
         "Monthly",
         1736,
         "2022-08-15T17:33:36.500+0000"
        ],
        [
         3571,
         "d8ae36d0-7430-4dc4-99c0-2e0bb1cb7ab3",
         "Basic",
         "Idle",
         "Apple Pay",
         "Quinquennal",
         "Full subscription",
         1935,
         "2022-08-15T17:33:36.500+0000"
        ],
        [
         4442,
         "40da40c6-5f48-4f73-8e1c-004623ec09c3",
         "Silver",
         "Active",
         "Cash",
         "Biennal",
         "Payment in advance",
         1516,
         "2022-08-15T17:33:36.500+0000"
        ],
        [
         6126,
         "2481c412-41c7-43a9-b05b-d1f10ab464d7",
         "Professional",
         "Idle",
         "Alipay",
         "Daily",
         "Monthly",
         1341,
         "2022-08-15T17:33:36.500+0000"
        ],
        [
         3770,
         "0ba31ae3-c7a2-404d-87f6-32f785795e90",
         "Basic",
         "Active",
         "Alipay",
         "Triennal",
         "Annual",
         1074,
         "2022-08-15T17:33:36.500+0000"
        ],
        [
         3298,
         "b55da4df-4bb7-4f52-a1ab-7bfaff7f0d15",
         "Business",
         "Idle",
         "Debit card",
         "Lifetime",
         "Monthly",
         1638,
         "2022-08-15T17:33:36.500+0000"
        ],
        [
         544,
         "76678135-a06f-4a54-967d-632f05471613",
         "Diamond",
         "Blocked",
         "Cash",
         "Annual",
         "Annual",
         1194,
         "2022-08-15T17:33:36.500+0000"
        ],
        [
         6486,
         "33e3a37c-39a1-43e3-83d1-8175f65c1300",
         "Business",
         "Blocked",
         "Cheque",
         "Quinquennal",
         "Annual",
         1321,
         "2022-08-15T17:33:36.500+0000"
        ],
        [
         3535,
         "113b0604-9373-4301-8a16-2dc27eb3e4d8",
         "Free Trial",
         "Blocked",
         "Apple Pay",
         "Triennal",
         "Payment in advance",
         1476,
         "2022-08-15T17:33:36.500+0000"
        ],
        [
         8941,
         "344a418a-d93e-46d3-8f40-2e5721cac1e9",
         "Starter",
         "Idle",
         "Paypal",
         "Monthly",
         "Payment in advance",
         1984,
         "2022-08-15T17:33:36.500+0000"
        ],
        [
         5164,
         "b3618522-8e01-48ae-8dcb-332b8ea6ac7c",
         "Gold",
         "Pending",
         "Paypal",
         "Lifetime",
         "Annual",
         1551,
         "2022-08-15T17:33:36.500+0000"
        ],
        [
         1517,
         "0015dc48-e3f6-451c-b19b-fa442519f09d",
         "Diamond",
         "Idle",
         "Google Pay",
         "Triennal",
         "Annual",
         1219,
         "2022-08-15T17:33:36.500+0000"
        ],
        [
         5928,
         "a39fa55c-d428-4ea2-9d64-ba6dd9261b71",
         "Gold",
         "Pending",
         "Google Pay",
         "Annual",
         "Payment in advance",
         2050,
         "2022-08-15T17:33:36.500+0000"
        ],
        [
         7871,
         "7a63bdc1-45ba-4c14-8d55-f5d5e719f68a",
         "Premium",
         "Idle",
         "Visa checkout",
         "Annual",
         "Annual",
         2813,
         "2022-08-15T17:33:36.500+0000"
        ],
        [
         9503,
         "5e783fdc-8dd2-4042-9599-a3b547421612",
         "Business",
         "Idle",
         "Paypal",
         "Annual",
         "Annual",
         2416,
         "2022-08-15T17:33:36.500+0000"
        ],
        [
         9369,
         "2c8b187c-8458-4c8a-94a6-00aa323f888c",
         "Free Trial",
         "Blocked",
         "Bitcoins",
         "Daily",
         "Monthly",
         3019,
         "2022-08-15T17:33:36.500+0000"
        ],
        [
         961,
         "8992219e-a58f-4a38-b937-81d893c01655",
         "Silver",
         "Active",
         "Credit card",
         "Biennal",
         "Full subscription",
         2317,
         "2022-08-15T17:33:36.500+0000"
        ],
        [
         4377,
         "0a493839-b727-48a7-afc3-f4bc567e056c",
         "Platinum",
         "Pending",
         "Debit card",
         "Lifetime",
         "Annual",
         3027,
         "2022-08-15T17:33:36.500+0000"
        ],
        [
         5203,
         "62cee4c0-e489-441a-9d5b-b40734ce9f9d",
         "Business",
         "Blocked",
         "Paypal",
         "Triennal",
         "Full subscription",
         2142,
         "2022-08-15T17:33:36.500+0000"
        ],
        [
         3612,
         "f6e0afc2-07fd-4c33-bf85-1e54db01cd1e",
         "Free Trial",
         "Blocked",
         "Cash",
         "Daily",
         "Full subscription",
         2809,
         "2022-08-15T17:33:36.500+0000"
        ],
        [
         8638,
         "2035f1f5-0bca-44c0-8bf2-282227aa953d",
         "Essential",
         "Blocked",
         "Apple Pay",
         "Weekly",
         "Monthly",
         2551,
         "2022-08-15T17:33:36.500+0000"
        ],
        [
         3149,
         "1deb7586-b809-4263-a04f-961a91638890",
         "Starter",
         "Blocked",
         "Paypal",
         "Annual",
         "Monthly",
         2957,
         "2022-08-15T17:33:36.500+0000"
        ],
        [
         7104,
         "cd052bb4-7067-43e8-89b1-bc64740a7b88",
         "Free Trial",
         "Blocked",
         "Cheque",
         "Monthly",
         "Annual",
         2421,
         "2022-08-15T17:33:36.500+0000"
        ],
        [
         7380,
         "28475c5e-7f8b-4096-8efc-0895ac59bf8c",
         "Standard",
         "Active",
         "WeChat Pay",
         "Monthly",
         "Payment in advance",
         2214,
         "2022-08-15T17:33:36.500+0000"
        ],
        [
         5927,
         "425441e8-0807-4559-9ae5-34db10b7f242",
         "Business",
         "Idle",
         "Alipay",
         "Weekly",
         "Monthly",
         2781,
         "2022-08-15T17:33:36.500+0000"
        ],
        [
         3793,
         "3df7f719-3087-4cac-ab0d-7b073029fea6",
         "Free Trial",
         "Active",
         "Alipay",
         "Triennal",
         "Full subscription",
         2313,
         "2022-08-15T17:33:36.500+0000"
        ],
        [
         1660,
         "8346132b-dd53-451a-98c4-b85ddac9b0d1",
         "Professional",
         "Active",
         "Google Pay",
         "Annual",
         "Full subscription",
         2194,
         "2022-08-15T17:33:36.500+0000"
        ],
        [
         9766,
         "a9a39b8d-bb61-41ce-ad62-e9346aa60262",
         "Professional",
         "Active",
         "WeChat Pay",
         "Annual",
         "Payment in advance",
         2893,
         "2022-08-15T17:33:36.500+0000"
        ],
        [
         9201,
         "75540bcc-43fe-40e8-9624-3645d0b5c945",
         "Premium",
         "Blocked",
         "Bitcoins",
         "Annual",
         "Payment in advance",
         2068,
         "2022-08-15T17:33:36.500+0000"
        ],
        [
         2269,
         "4ce0f080-8279-49ad-88ab-ced4111a0309",
         "Diamond",
         "Pending",
         "Apple Pay",
         "Annual",
         "Full subscription",
         3173,
         "2022-08-15T17:33:36.500+0000"
        ],
        [
         3413,
         "c6e2a510-57e9-4038-b0d1-401941e336e9",
         "Basic",
         "Blocked",
         "Bitcoins",
         "Lifetime",
         "Payment in advance",
         3199,
         "2022-08-15T17:33:36.500+0000"
        ],
        [
         9791,
         "18d85d9b-b490-40ba-8d65-b11a7a85b520",
         "Diamond",
         "Active",
         "Visa checkout",
         "Quinquennal",
         "Annual",
         3996,
         "2022-08-15T17:33:36.500+0000"
        ],
        [
         122,
         "029e58b8-4ff0-48f5-acae-7a0ec7d9aa65",
         "Free Trial",
         "Pending",
         "WeChat Pay",
         "Weekly",
         "Full subscription",
         3632,
         "2022-08-15T17:33:36.500+0000"
        ],
        [
         5019,
         "3f320a09-e5e5-4fe9-bd41-4c78a86a4bfd",
         "Standard",
         "Blocked",
         "Alipay",
         "Weekly",
         "Payment in advance",
         3065,
         "2022-08-15T17:33:36.500+0000"
        ],
        [
         7906,
         "e09cc4ee-8e3b-4d2e-8170-a28d66eb6277",
         "Student",
         "Pending",
         "Google Pay",
         "Monthly",
         "Payment in advance",
         3694,
         "2022-08-15T17:33:36.500+0000"
        ],
        [
         8759,
         "e72473cc-2754-4cac-936d-a81f1033da34",
         "Student",
         "Pending",
         "Visa checkout",
         "Quinquennal",
         "Full subscription",
         3862,
         "2022-08-15T17:33:36.500+0000"
        ],
        [
         1475,
         "3818520f-07ea-482b-bfdd-5cb7f37a6bd2",
         "Starter",
         "Idle",
         "Money transfer",
         "Biennal",
         "Monthly",
         3945,
         "2022-08-15T17:33:36.500+0000"
        ],
        [
         3510,
         "dc87229c-545a-49ab-9a94-db4d32a19e8f",
         "Silver",
         "Idle",
         "WeChat Pay",
         "Weekly",
         "Annual",
         3774,
         "2022-08-15T17:33:36.500+0000"
        ],
        [
         980,
         "825dbc93-8652-4b1d-8948-c8ea8e12ced8",
         "Silver",
         "Blocked",
         "Cheque",
         "Daily",
         "Annual",
         4445,
         "2022-08-15T17:33:36.500+0000"
        ],
        [
         1831,
         "d4b877b0-b4c4-4f9f-ae86-86bd65ffa584",
         "Silver",
         "Pending",
         "WeChat Pay",
         "Triennal",
         "Annual",
         4608,
         "2022-08-15T17:33:36.500+0000"
        ],
        [
         2185,
         "addd3caa-13c5-4553-a61c-8a297d4ca1e8",
         "Gold",
         "Idle",
         "Money transfer",
         "Monthly",
         "Annual",
         5020,
         "2022-08-15T17:33:36.500+0000"
        ],
        [
         6460,
         "e781b092-ac57-416e-9af8-644147481a88",
         "Basic",
         "Blocked",
         "Paypal",
         "Quinquennal",
         "Annual",
         4965,
         "2022-08-15T17:33:36.500+0000"
        ],
        [
         1490,
         "bc86ed81-173c-481a-9bd9-d95b31543d78",
         "Student",
         "Idle",
         "Credit card",
         "Quinquennal",
         "Full subscription",
         5572,
         "2022-08-15T17:33:36.500+0000"
        ],
        [
         9194,
         "39a2a01e-2a2e-48fb-be3c-1eea8859849e",
         "Diamond",
         "Pending",
         "Apple Pay",
         "Triennal",
         "Full subscription",
         5133,
         "2022-08-15T17:33:36.500+0000"
        ],
        [
         4719,
         "48f9d7a7-18ea-4640-81f4-0eb1d923aead",
         "Basic",
         "Pending",
         "WeChat Pay",
         "Quinquennal",
         "Annual",
         5340,
         "2022-08-15T17:33:36.500+0000"
        ],
        [
         7711,
         "1cf06a0d-fa32-40b5-899a-f36003a5884e",
         "Basic",
         "Pending",
         "Paypal",
         "Daily",
         "Annual",
         5498,
         "2022-08-15T17:33:36.500+0000"
        ],
        [
         7555,
         "aea76df2-8675-4651-a849-5e7161295a58",
         "Standard",
         "Idle",
         "Cheque",
         "Biennal",
         "Payment in advance",
         5319,
         "2022-08-15T17:33:36.500+0000"
        ],
        [
         2283,
         "bfc8885b-84cb-4b00-91ed-855b7118e785",
         "Silver",
         "Blocked",
         "Bitcoins",
         "Triennal",
         "Payment in advance",
         5730,
         "2022-08-15T17:33:36.500+0000"
        ],
        [
         8294,
         "5922f1bb-c7b7-4642-8c1d-9defc9aee31e",
         "Professional",
         "Pending",
         "Visa checkout",
         "Daily",
         "Annual",
         5656,
         "2022-08-15T17:33:36.500+0000"
        ],
        [
         9040,
         "7e71a40a-d4e4-4376-b7ad-d1364199b79a",
         "Silver",
         "Pending",
         "Debit card",
         "Weekly",
         "Full subscription",
         5844,
         "2022-08-15T17:33:36.500+0000"
        ],
        [
         3868,
         "67b39bc8-84e9-4232-ad37-200e9864c1a4",
         "Platinum",
         "Blocked",
         "Cash",
         "Quinquennal",
         "Payment in advance",
         5756,
         "2022-08-15T17:33:36.500+0000"
        ],
        [
         741,
         "1ce1bfb4-3b35-426d-a01d-73c71026acc8",
         "Premium",
         "Idle",
         "Apple Pay",
         "Quinquennal",
         "Full subscription",
         7037,
         "2022-08-15T17:33:36.500+0000"
        ],
        [
         7112,
         "b8bd043e-3314-4588-ac00-9eae272d3ba0",
         "Premium",
         "Pending",
         "Cash",
         "Quinquennal",
         "Payment in advance",
         6360,
         "2022-08-15T17:33:36.500+0000"
        ],
        [
         1381,
         "3277f148-ece4-42fa-977c-7ce758470cf4",
         "Free Trial",
         "Idle",
         "Debit card",
         "Daily",
         "Payment in advance",
         6830,
         "2022-08-15T17:33:36.500+0000"
        ],
        [
         985,
         "b6b087e9-4d58-40df-abe8-6b5e3d9305cf",
         "Essential",
         "Blocked",
         "Visa checkout",
         "Daily",
         "Monthly",
         6133,
         "2022-08-15T17:33:36.500+0000"
        ],
        [
         1544,
         "0ceefa6f-4f0d-4350-8256-b12609191f71",
         "Gold",
         "Pending",
         "Apple Pay",
         "Quinquennal",
         "Full subscription",
         6608,
         "2022-08-15T17:33:36.500+0000"
        ],
        [
         2010,
         "f139f85a-6675-4964-b7d9-672960a86bcf",
         "Professional",
         "Active",
         "WeChat Pay",
         "Daily",
         "Payment in advance",
         6418,
         "2022-08-15T17:33:36.500+0000"
        ],
        [
         3711,
         "6f0baec6-c489-4a89-86a7-8681139c8e0e",
         "Free Trial",
         "Blocked",
         "Debit card",
         "Biennal",
         "Monthly",
         6605,
         "2022-08-15T17:33:36.500+0000"
        ],
        [
         6056,
         "6aebbabd-b711-42f0-8573-fd4c9d69fdbd",
         "Standard",
         "Blocked",
         "Google Pay",
         "Monthly",
         "Full subscription",
         6402,
         "2022-08-15T17:33:36.500+0000"
        ],
        [
         9211,
         "dbba97e0-6c83-461d-86e0-01bb4397334a",
         "Essential",
         "Pending",
         "Money transfer",
         "Monthly",
         "Annual",
         6740,
         "2022-08-15T17:33:36.500+0000"
        ],
        [
         1116,
         "a4320a27-4e4d-4f3f-89ed-ac8209668488",
         "Essential",
         "Blocked",
         "Cash",
         "Triennal",
         "Full subscription",
         6754,
         "2022-08-15T17:33:36.500+0000"
        ],
        [
         1971,
         "e1a8cd7e-4d57-4c6a-b0f2-5a2cce9de14d",
         "Free Trial",
         "Blocked",
         "Credit card",
         "Biennal",
         "Monthly",
         6540,
         "2022-08-15T17:33:36.500+0000"
        ],
        [
         8471,
         "719eaa6e-4642-479e-92f3-df930ff577c1",
         "Business",
         "Blocked",
         "Alipay",
         "Monthly",
         "Payment in advance",
         7064,
         "2022-08-15T17:33:36.500+0000"
        ],
        [
         9553,
         "62b76e83-dd96-496b-9a76-af6472603d00",
         "Free Trial",
         "Blocked",
         "WeChat Pay",
         "Lifetime",
         "Payment in advance",
         7432,
         "2022-08-15T17:33:36.500+0000"
        ],
        [
         1360,
         "86adff23-ecb4-4f11-a814-c0b87dba1f1a",
         "Starter",
         "Pending",
         "Apple Pay",
         "Lifetime",
         "Payment in advance",
         7532,
         "2022-08-15T17:33:36.500+0000"
        ],
        [
         4856,
         "07bf2c2e-6a25-49ad-9bc3-89d6166b906d",
         "Silver",
         "Idle",
         "Paypal",
         "Quinquennal",
         "Annual",
         7508,
         "2022-08-15T17:33:36.500+0000"
        ],
        [
         2965,
         "aa19c6df-cefb-4d71-9101-2250e0410653",
         "Silver",
         "Pending",
         "Paypal",
         "Weekly",
         "Annual",
         8019,
         "2022-08-15T17:33:36.500+0000"
        ],
        [
         3452,
         "102f0322-04ec-4c6f-a36c-d713ec1fef75",
         "Bronze",
         "Blocked",
         "Alipay",
         "Lifetime",
         "Annual",
         7478,
         "2022-08-15T17:33:36.500+0000"
        ],
        [
         7947,
         "a7b8bd73-92bc-472f-84a1-59073b6fa782",
         "Gold",
         "Pending",
         "Money transfer",
         "Annual",
         "Monthly",
         7987,
         "2022-08-15T17:33:36.500+0000"
        ],
        [
         4110,
         "4b63df18-8083-4b01-895e-9c53612756b8",
         "Professional",
         "Idle",
         "WeChat Pay",
         "Weekly",
         "Monthly",
         7433,
         "2022-08-15T17:33:36.500+0000"
        ],
        [
         9544,
         "51a44849-1888-4806-99c1-8f2bd8188753",
         "Silver",
         "Blocked",
         "Google Pay",
         "Biennal",
         "Annual",
         7232,
         "2022-08-15T17:33:36.500+0000"
        ],
        [
         4108,
         "1a3600a1-b892-4dab-a038-e6f863724043",
         "Premium",
         "Pending",
         "Debit card",
         "Monthly",
         "Full subscription",
         7297,
         "2022-08-15T17:33:36.500+0000"
        ],
        [
         1360,
         "a5709d42-f1f8-46cc-b297-cd0f60642278",
         "Business",
         "Blocked",
         "Cheque",
         "Daily",
         "Payment in advance",
         7560,
         "2022-08-15T17:33:36.500+0000"
        ],
        [
         6415,
         "e18048b8-6290-436c-a2e6-8711c2f8bd65",
         "Premium",
         "Idle",
         "Cash",
         "Quinquennal",
         "Annual",
         8839,
         "2022-08-15T17:33:36.500+0000"
        ],
        [
         8062,
         "fc78957b-3827-4177-bbc1-e7871594d965",
         "Basic",
         "Pending",
         "Alipay",
         "Biennal",
         "Full subscription",
         8733,
         "2022-08-15T17:33:36.500+0000"
        ],
        [
         7019,
         "4e744df4-543b-4ffe-b2fd-0164192a05b6",
         "Free Trial",
         "Blocked",
         "Bitcoins",
         "Monthly",
         "Monthly",
         8607,
         "2022-08-15T17:33:36.500+0000"
        ],
        [
         244,
         "a2d7b62e-01ca-4d30-a5c7-183f4f108037",
         "Standard",
         "Idle",
         "Google Pay",
         "Lifetime",
         "Payment in advance",
         8832,
         "2022-08-15T17:33:36.500+0000"
        ],
        [
         5335,
         "06ae7d57-a5b0-49f3-ab7b-89b10bb6c937",
         "Free Trial",
         "Blocked",
         "Bitcoins",
         "Daily",
         "Monthly",
         8707,
         "2022-08-15T17:33:36.500+0000"
        ],
        [
         8426,
         "a2a18ebb-8cf9-40f1-89e9-6494a7e0b56f",
         "Student",
         "Pending",
         "WeChat Pay",
         "Annual",
         "Full subscription",
         8597,
         "2022-08-15T17:33:36.500+0000"
        ],
        [
         3545,
         "7df13b94-c308-48f4-81a8-9b9ef47da0a4",
         "Gold",
         "Pending",
         "Cash",
         "Lifetime",
         "Monthly",
         8891,
         "2022-08-15T17:33:36.500+0000"
        ],
        [
         7922,
         "d2eb5f0e-563a-4071-ae2c-a4a4f024c586",
         "Business",
         "Active",
         "WeChat Pay",
         "Quinquennal",
         "Monthly",
         8715,
         "2022-08-15T17:33:36.500+0000"
        ],
        [
         8064,
         "1a4ae45e-7ed4-4850-8f14-1fc312bf1a4f",
         "Essential",
         "Idle",
         "Credit card",
         "Weekly",
         "Full subscription",
         8880,
         "2022-08-15T17:33:36.500+0000"
        ],
        [
         5427,
         "5aaf2d13-eabb-467c-90e4-57e582205fb1",
         "Basic",
         "Active",
         "Visa checkout",
         "Monthly",
         "Annual",
         8567,
         "2022-08-15T17:33:36.500+0000"
        ],
        [
         3671,
         "8170ebea-b3cc-4964-844f-0cf67257379a",
         "Premium",
         "Active",
         "WeChat Pay",
         "Annual",
         "Monthly",
         8306,
         "2022-08-15T17:33:36.500+0000"
        ],
        [
         1305,
         "34a0c79f-739b-4a7a-a8cb-30690b562566",
         "Student",
         "Idle",
         "Cheque",
         "Monthly",
         "Monthly",
         8139,
         "2022-08-15T17:33:36.500+0000"
        ],
        [
         9328,
         "e584b50c-9ac6-4c84-9464-a138aa45920e",
         "Platinum",
         "Idle",
         "Bitcoins",
         "Quinquennal",
         "Annual",
         8727,
         "2022-08-15T17:33:36.500+0000"
        ],
        [
         9661,
         "5b994ae0-5edc-4a62-adf9-001092419b91",
         "Starter",
         "Pending",
         "Paypal",
         "Daily",
         "Payment in advance",
         9458,
         "2022-08-15T17:33:36.500+0000"
        ],
        [
         89,
         "ef129d78-d541-4512-b202-bca154668cf0",
         "Gold",
         "Blocked",
         "Alipay",
         "Weekly",
         "Monthly",
         9488,
         "2022-08-15T17:33:36.500+0000"
        ],
        [
         1850,
         "04d41503-4ae6-4013-9184-d7cbfb05961f",
         "Essential",
         "Idle",
         "Credit card",
         "Weekly",
         "Monthly",
         9759,
         "2022-08-15T17:33:36.500+0000"
        ],
        [
         4413,
         "a46de0a0-19e0-4ad5-8fbd-73b86cd8f153",
         "Professional",
         "Idle",
         "Alipay",
         "Lifetime",
         "Payment in advance",
         9855,
         "2022-08-15T17:33:36.500+0000"
        ],
        [
         617,
         "74e50c91-f04b-4449-a36d-1150c743fc10",
         "Premium",
         "Active",
         "Money transfer",
         "Lifetime",
         "Full subscription",
         9973,
         "2022-08-15T17:33:36.500+0000"
        ],
        [
         3322,
         "2ba3b288-184c-43a5-a413-c6b35ec2d5ff",
         "Platinum",
         "Blocked",
         "Paypal",
         "Triennal",
         "Monthly",
         9875,
         "2022-08-15T17:33:36.500+0000"
        ]
       ],
       "datasetInfos": [],
       "dbfsResultPath": null,
       "isJsonSchema": true,
       "metadata": {},
       "overflow": false,
       "plotOptions": {
        "customPlotOptions": {},
        "displayType": "table",
        "pivotAggregation": null,
        "pivotColumns": null,
        "xColumns": null,
        "yColumns": null
       },
       "removedWidgets": [],
       "schema": [
        {
         "metadata": "{\"scale\":0}",
         "name": "id",
         "type": "\"long\""
        },
        {
         "metadata": "{\"scale\":0}",
         "name": "uid",
         "type": "\"string\""
        },
        {
         "metadata": "{\"scale\":0}",
         "name": "plan",
         "type": "\"string\""
        },
        {
         "metadata": "{\"scale\":0}",
         "name": "status",
         "type": "\"string\""
        },
        {
         "metadata": "{\"scale\":0}",
         "name": "payment_method",
         "type": "\"string\""
        },
        {
         "metadata": "{\"scale\":0}",
         "name": "subscription_term",
         "type": "\"string\""
        },
        {
         "metadata": "{\"scale\":0}",
         "name": "payment_term",
         "type": "\"string\""
        },
        {
         "metadata": "{\"scale\":0}",
         "name": "user_id",
         "type": "\"long\""
        },
        {
         "metadata": "{\"scale\":3}",
         "name": "dt_current_timestamp",
         "type": "\"timestamp\""
        }
       ],
       "type": "table"
      }
     },
     "output_type": "display_data"
    }
   ],
   "source": [
    "%sql\n",
    "\n",
    "-- query data\n",
    "SELECT *\n",
    "FROM vw_subscription"
   ]
  },
  {
   "cell_type": "markdown",
   "metadata": {
    "application/vnd.databricks.v1+cell": {
     "cellMetadata": {},
     "inputWidgets": {},
     "nuid": "9ff792e1-9466-4e23-8b17-ec10a95bd478",
     "showTitle": false,
     "title": ""
    }
   },
   "source": [
    "\n",
    "<br>\n",
    "  \n",
    "<img width=\"400px\" src ='https://owshqblobstg.blob.core.windows.net/stgfiles/png_files/dl_pq.png'>\n",
    "  \n",
    "<br>"
   ]
  },
  {
   "cell_type": "code",
   "execution_count": 0,
   "metadata": {
    "application/vnd.databricks.v1+cell": {
     "cellMetadata": {},
     "inputWidgets": {},
     "nuid": "aa07d3f5-3d38-42c5-ae1b-b51c47994420",
     "showTitle": false,
     "title": ""
    }
   },
   "outputs": [
    {
     "output_type": "display_data",
     "data": {
      "text/html": [
       "<style scoped>\n",
       "  .ansiout {\n",
       "    display: block;\n",
       "    unicode-bidi: embed;\n",
       "    white-space: pre-wrap;\n",
       "    word-wrap: break-word;\n",
       "    word-break: break-all;\n",
       "    font-family: \"Menlo\", \"Monaco\", \"Consolas\", \"Ubuntu Mono\", \"Source Code Pro\", monospace;\n",
       "    font-size: 13px;\n",
       "    color: #555;\n",
       "    margin-left: 4px;\n",
       "    line-height: 19px;\n",
       "  }\n",
       "</style>\n",
       "<div class=\"ansiout\"></div>"
      ]
     },
     "metadata": {
      "application/vnd.databricks.v1+output": {
       "addedWidgets": {},
       "arguments": {},
       "data": "<div class=\"ansiout\"></div>",
       "datasetInfos": [],
       "metadata": {},
       "removedWidgets": [],
       "type": "html"
      }
     },
     "output_type": "display_data"
    }
   ],
   "source": [
    "# write into parquet\n",
    "# processing zone\n",
    "# using overwrite \n",
    "df_subscription.write.mode(\"overwrite\").parquet(\"/mnt/processing/parquet/batch/subscription\")"
   ]
  },
  {
   "cell_type": "markdown",
   "metadata": {
    "application/vnd.databricks.v1+cell": {
     "cellMetadata": {},
     "inputWidgets": {},
     "nuid": "db978a29-b02b-48e5-9f4b-cdf1dd5338cd",
     "showTitle": false,
     "title": ""
    }
   },
   "source": [
    "\n",
    "<br>\n",
    "  \n",
    "<img width=\"900px\" src ='https://owshqblobstg.blob.core.windows.net/stgfiles/png_files/dl_delta_bronze0.png'>\n",
    "  \n",
    "<br>\n"
   ]
  },
  {
   "cell_type": "code",
   "execution_count": 0,
   "metadata": {
    "application/vnd.databricks.v1+cell": {
     "cellMetadata": {},
     "inputWidgets": {},
     "nuid": "b3b66ef5-c077-43d8-ab03-60b508c75ef9",
     "showTitle": false,
     "title": ""
    }
   },
   "outputs": [
    {
     "output_type": "display_data",
     "data": {
      "text/html": [
       "<style scoped>\n",
       "  .ansiout {\n",
       "    display: block;\n",
       "    unicode-bidi: embed;\n",
       "    white-space: pre-wrap;\n",
       "    word-wrap: break-word;\n",
       "    word-break: break-all;\n",
       "    font-family: \"Menlo\", \"Monaco\", \"Consolas\", \"Ubuntu Mono\", \"Source Code Pro\", monospace;\n",
       "    font-size: 13px;\n",
       "    color: #555;\n",
       "    margin-left: 4px;\n",
       "    line-height: 19px;\n",
       "  }\n",
       "</style>\n",
       "<div class=\"ansiout\"></div>"
      ]
     },
     "metadata": {
      "application/vnd.databricks.v1+output": {
       "addedWidgets": {},
       "arguments": {},
       "data": "<div class=\"ansiout\"></div>",
       "datasetInfos": [],
       "metadata": {},
       "removedWidgets": [],
       "type": "html"
      }
     },
     "output_type": "display_data"
    }
   ],
   "source": [
    "# write into delta\n",
    "# delta architecture zone\n",
    "# using overwrite\n",
    "df_subscription.write.mode(\"overwrite\").format(\"delta\").save(\"dbfs:/mnt/owshq/delta/batch/bronze/subscription\")"
   ]
  },
  {
   "cell_type": "code",
   "execution_count": 0,
   "metadata": {
    "application/vnd.databricks.v1+cell": {
     "cellMetadata": {},
     "inputWidgets": {},
     "nuid": "490108c3-7af7-4e5e-86ee-30da6361ede3",
     "showTitle": false,
     "title": ""
    }
   },
   "outputs": [],
   "source": []
  }
 ],
 "metadata": {
  "application/vnd.databricks.v1+notebook": {
   "dashboards": [],
   "language": "python",
   "notebookMetadata": {
    "pythonIndentUnit": 2
   },
   "notebookName": "2_mssql_jdbc_table",
   "widgets": {}
  }
 },
 "nbformat": 4,
 "nbformat_minor": 0
}
